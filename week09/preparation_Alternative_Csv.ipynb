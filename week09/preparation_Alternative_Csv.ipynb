{
 "cells": [
  {
   "cell_type": "code",
   "execution_count": 1,
   "id": "30e797d3",
   "metadata": {},
   "outputs": [
    {
     "name": "stdout",
     "output_type": "stream",
     "text": [
      "Requirement already satisfied: browser-history in c:\\users\\hp\\anaconda3\\lib\\site-packages (0.3.2)\n",
      "Note: you may need to restart the kernel to use updated packages.\n"
     ]
    }
   ],
   "source": [
    "pip install browser-history"
   ]
  },
  {
   "cell_type": "code",
   "execution_count": 2,
   "id": "9d1f6d8f",
   "metadata": {},
   "outputs": [],
   "source": [
    "from browser_history.browsers import Firefox,Chrome\n",
    "\n",
    "f = Chrome()\n",
    "outputs = f.fetch_history()"
   ]
  },
  {
   "cell_type": "code",
   "execution_count": 3,
   "id": "31fbb7c1",
   "metadata": {},
   "outputs": [],
   "source": [
    "his = outputs.histories"
   ]
  },
  {
   "cell_type": "code",
   "execution_count": 4,
   "id": "e81fdd7b",
   "metadata": {},
   "outputs": [],
   "source": [
    "date, site = his[0]"
   ]
  },
  {
   "cell_type": "code",
   "execution_count": 5,
   "id": "40d1a1d7",
   "metadata": {},
   "outputs": [
    {
     "data": {
      "text/plain": [
       "datetime.datetime(2022, 1, 17, 23, 42, 2, tzinfo=datetime.timezone(datetime.timedelta(days=-1, seconds=72000), 'Eastern Daylight Time'))"
      ]
     },
     "execution_count": 5,
     "metadata": {},
     "output_type": "execute_result"
    }
   ],
   "source": [
    "date"
   ]
  },
  {
   "cell_type": "code",
   "execution_count": 6,
   "id": "26417cc2",
   "metadata": {},
   "outputs": [
    {
     "data": {
      "text/plain": [
       "'2022-01-17 23:42:02-04:00'"
      ]
     },
     "execution_count": 6,
     "metadata": {},
     "output_type": "execute_result"
    }
   ],
   "source": [
    "str(date)"
   ]
  },
  {
   "cell_type": "code",
   "execution_count": 7,
   "id": "47663270",
   "metadata": {},
   "outputs": [
    {
     "data": {
      "text/plain": [
       "'2022-01-17 23:42:02'"
      ]
     },
     "execution_count": 7,
     "metadata": {},
     "output_type": "execute_result"
    }
   ],
   "source": [
    "str(date)[:19]"
   ]
  },
  {
   "cell_type": "code",
   "execution_count": 8,
   "id": "37239760",
   "metadata": {},
   "outputs": [
    {
     "data": {
      "text/plain": [
       "'https://www.google.com/webhp?authuser=1'"
      ]
     },
     "execution_count": 8,
     "metadata": {},
     "output_type": "execute_result"
    }
   ],
   "source": [
    "site"
   ]
  },
  {
   "cell_type": "code",
   "execution_count": 9,
   "id": "e515a6f3",
   "metadata": {},
   "outputs": [],
   "source": [
    "def sanitize(x):\n",
    "    return f'\"{x[:150]}\"'"
   ]
  },
  {
   "cell_type": "code",
   "execution_count": 10,
   "id": "d295fb2a",
   "metadata": {},
   "outputs": [],
   "source": [
    "with open('browser_history.csv', 'w') as f:\n",
    "    for date, site in his:\n",
    "        site_ = sanitize(site)\n",
    "        line =  site_ + ', ,' + str(date)[:19] + '\\n'\n",
    "        f.write(line)"
   ]
  },
  {
   "cell_type": "code",
   "execution_count": null,
   "id": "0852dd6e",
   "metadata": {},
   "outputs": [],
   "source": []
  },
  {
   "cell_type": "code",
   "execution_count": null,
   "id": "3e2004d3",
   "metadata": {},
   "outputs": [],
   "source": []
  }
 ],
 "metadata": {
  "kernelspec": {
   "display_name": "Python 3 (ipykernel)",
   "language": "python",
   "name": "python3"
  },
  "language_info": {
   "codemirror_mode": {
    "name": "ipython",
    "version": 3
   },
   "file_extension": ".py",
   "mimetype": "text/x-python",
   "name": "python",
   "nbconvert_exporter": "python",
   "pygments_lexer": "ipython3",
   "version": "3.9.7"
  }
 },
 "nbformat": 4,
 "nbformat_minor": 5
}
