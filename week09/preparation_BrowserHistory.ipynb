{
 "cells": [
  {
   "cell_type": "code",
   "execution_count": 4,
   "id": "c305c209",
   "metadata": {},
   "outputs": [
    {
     "name": "stdout",
     "output_type": "stream",
     "text": [
      "Requirement already satisfied: pip in c:\\users\\hp\\anaconda3\\lib\\site-packages (22.0.4)\n",
      "Note: you may need to restart the kernel to use updated packages.\n"
     ]
    }
   ],
   "source": [
    "pip install --upgrade pip"
   ]
  },
  {
   "cell_type": "code",
   "execution_count": 6,
   "id": "e1686d1e",
   "metadata": {},
   "outputs": [
    {
     "name": "stdout",
     "output_type": "stream",
     "text": [
      "Collecting browserhistory\n",
      "  Using cached browserhistory-0.1.2-py3-none-any.whl (5.1 kB)\n",
      "Installing collected packages: browserhistory\n",
      "Successfully installed browserhistory-0.1.2\n",
      "Note: you may need to restart the kernel to use updated packages.\n"
     ]
    }
   ],
   "source": [
    "pip install browserhistory"
   ]
  },
  {
   "cell_type": "code",
   "execution_count": 7,
   "id": "d2f2d91d",
   "metadata": {},
   "outputs": [],
   "source": [
    "import browserhistory as bh"
   ]
  },
  {
   "cell_type": "code",
   "execution_count": 8,
   "id": "5a12f423",
   "metadata": {},
   "outputs": [],
   "source": [
    "dict_obj = bh.get_browserhistory()\n",
    "bh.write_browserhistory_csv()"
   ]
  },
  {
   "cell_type": "code",
   "execution_count": 9,
   "id": "ba080705",
   "metadata": {},
   "outputs": [],
   "source": [
    "import pandas as pd"
   ]
  },
  {
   "cell_type": "code",
   "execution_count": 10,
   "id": "a6cbb745",
   "metadata": {},
   "outputs": [],
   "source": [
    "df = pd.read_csv('browser_history.csv', header=None, names=['Site','Title', 'Time'])"
   ]
  },
  {
   "cell_type": "code",
   "execution_count": 11,
   "id": "37c2911d",
   "metadata": {},
   "outputs": [
    {
     "data": {
      "text/html": [
       "<div>\n",
       "<style scoped>\n",
       "    .dataframe tbody tr th:only-of-type {\n",
       "        vertical-align: middle;\n",
       "    }\n",
       "\n",
       "    .dataframe tbody tr th {\n",
       "        vertical-align: top;\n",
       "    }\n",
       "\n",
       "    .dataframe thead th {\n",
       "        text-align: right;\n",
       "    }\n",
       "</style>\n",
       "<table border=\"1\" class=\"dataframe\">\n",
       "  <thead>\n",
       "    <tr style=\"text-align: right;\">\n",
       "      <th></th>\n",
       "      <th>Site</th>\n",
       "      <th>Title</th>\n",
       "      <th>Time</th>\n",
       "    </tr>\n",
       "  </thead>\n",
       "  <tbody>\n",
       "    <tr>\n",
       "      <th>0</th>\n",
       "      <td>https://www.google.com/webhp?authuser=1</td>\n",
       "      <td></td>\n",
       "      <td>2022-01-17 23:42:02</td>\n",
       "    </tr>\n",
       "    <tr>\n",
       "      <th>1</th>\n",
       "      <td>https://www.google.com/search?q=indigo+web+che...</td>\n",
       "      <td></td>\n",
       "      <td>2022-01-17 23:46:09</td>\n",
       "    </tr>\n",
       "    <tr>\n",
       "      <th>2</th>\n",
       "      <td>https://www.google.com/search?q=goibibo+flight...</td>\n",
       "      <td></td>\n",
       "      <td>2022-01-17 23:46:22</td>\n",
       "    </tr>\n",
       "    <tr>\n",
       "      <th>3</th>\n",
       "      <td>https://www.goibibo.com/flights/?utm_source=go...</td>\n",
       "      <td></td>\n",
       "      <td>2022-01-17 23:46:28</td>\n",
       "    </tr>\n",
       "    <tr>\n",
       "      <th>4</th>\n",
       "      <td>https://www.goibibo.com/flight-review/?t=t_626...</td>\n",
       "      <td></td>\n",
       "      <td>2022-01-17 23:48:38</td>\n",
       "    </tr>\n",
       "  </tbody>\n",
       "</table>\n",
       "</div>"
      ],
      "text/plain": [
       "                                                Site Title  \\\n",
       "0            https://www.google.com/webhp?authuser=1         \n",
       "1  https://www.google.com/search?q=indigo+web+che...         \n",
       "2  https://www.google.com/search?q=goibibo+flight...         \n",
       "3  https://www.goibibo.com/flights/?utm_source=go...         \n",
       "4  https://www.goibibo.com/flight-review/?t=t_626...         \n",
       "\n",
       "                  Time  \n",
       "0  2022-01-17 23:42:02  \n",
       "1  2022-01-17 23:46:09  \n",
       "2  2022-01-17 23:46:22  \n",
       "3  2022-01-17 23:46:28  \n",
       "4  2022-01-17 23:48:38  "
      ]
     },
     "execution_count": 11,
     "metadata": {},
     "output_type": "execute_result"
    }
   ],
   "source": [
    "df.head()"
   ]
  },
  {
   "cell_type": "code",
   "execution_count": 12,
   "id": "e2df3d61",
   "metadata": {},
   "outputs": [
    {
     "data": {
      "text/plain": [
       "Site     0\n",
       "Title    0\n",
       "Time     0\n",
       "dtype: int64"
      ]
     },
     "execution_count": 12,
     "metadata": {},
     "output_type": "execute_result"
    }
   ],
   "source": [
    "df.isna().sum()"
   ]
  },
  {
   "cell_type": "code",
   "execution_count": 13,
   "id": "7ce6e709",
   "metadata": {},
   "outputs": [
    {
     "name": "stdout",
     "output_type": "stream",
     "text": [
      "www.example.test\n",
      "www.test.com.eu\n"
     ]
    }
   ],
   "source": [
    "from urllib.parse import urlparse\n",
    "\n",
    "print(urlparse('http://www.example.test/foo/bar').netloc) # --> www.example.test\n",
    "print(urlparse('http://www.test.com.eu/ters').netloc) # --> www.example.test"
   ]
  },
  {
   "cell_type": "code",
   "execution_count": 14,
   "id": "e461a8b2",
   "metadata": {},
   "outputs": [],
   "source": [
    "def get_domain(url):\n",
    "    domain = urlparse(url).netloc\n",
    "    \n",
    "    if domain == '':\n",
    "        return None\n",
    "\n",
    "    return domain"
   ]
  },
  {
   "cell_type": "code",
   "execution_count": 15,
   "id": "e406e487",
   "metadata": {},
   "outputs": [],
   "source": [
    "df['domain'] = [ get_domain(s)  for s in df['Site'] ]"
   ]
  },
  {
   "cell_type": "code",
   "execution_count": 16,
   "id": "abf09d8d",
   "metadata": {},
   "outputs": [],
   "source": [
    "df.drop('Site', axis=1, inplace=True) # drop Site column & update the current df object\n",
    "df.drop('Title', axis=1, inplace=True) # drop Site column & update the current df object"
   ]
  },
  {
   "cell_type": "code",
   "execution_count": 17,
   "id": "865ec8e1",
   "metadata": {},
   "outputs": [
    {
     "data": {
      "text/plain": [
       "Time       0\n",
       "domain    18\n",
       "dtype: int64"
      ]
     },
     "execution_count": 17,
     "metadata": {},
     "output_type": "execute_result"
    }
   ],
   "source": [
    "df.isna().sum()"
   ]
  },
  {
   "cell_type": "code",
   "execution_count": 18,
   "id": "260d7ecf",
   "metadata": {},
   "outputs": [],
   "source": [
    "df.dropna(inplace=True)"
   ]
  },
  {
   "cell_type": "code",
   "execution_count": 19,
   "id": "b4330d77",
   "metadata": {},
   "outputs": [
    {
     "data": {
      "text/html": [
       "<div>\n",
       "<style scoped>\n",
       "    .dataframe tbody tr th:only-of-type {\n",
       "        vertical-align: middle;\n",
       "    }\n",
       "\n",
       "    .dataframe tbody tr th {\n",
       "        vertical-align: top;\n",
       "    }\n",
       "\n",
       "    .dataframe thead th {\n",
       "        text-align: right;\n",
       "    }\n",
       "</style>\n",
       "<table border=\"1\" class=\"dataframe\">\n",
       "  <thead>\n",
       "    <tr style=\"text-align: right;\">\n",
       "      <th></th>\n",
       "      <th>Time</th>\n",
       "      <th>domain</th>\n",
       "    </tr>\n",
       "  </thead>\n",
       "  <tbody>\n",
       "    <tr>\n",
       "      <th>0</th>\n",
       "      <td>2022-01-17 23:42:02</td>\n",
       "      <td>www.google.com</td>\n",
       "    </tr>\n",
       "    <tr>\n",
       "      <th>1</th>\n",
       "      <td>2022-01-17 23:46:09</td>\n",
       "      <td>www.google.com</td>\n",
       "    </tr>\n",
       "    <tr>\n",
       "      <th>2</th>\n",
       "      <td>2022-01-17 23:46:22</td>\n",
       "      <td>www.google.com</td>\n",
       "    </tr>\n",
       "    <tr>\n",
       "      <th>3</th>\n",
       "      <td>2022-01-17 23:46:28</td>\n",
       "      <td>www.goibibo.com</td>\n",
       "    </tr>\n",
       "    <tr>\n",
       "      <th>4</th>\n",
       "      <td>2022-01-17 23:48:38</td>\n",
       "      <td>www.goibibo.com</td>\n",
       "    </tr>\n",
       "  </tbody>\n",
       "</table>\n",
       "</div>"
      ],
      "text/plain": [
       "                  Time           domain\n",
       "0  2022-01-17 23:42:02   www.google.com\n",
       "1  2022-01-17 23:46:09   www.google.com\n",
       "2  2022-01-17 23:46:22   www.google.com\n",
       "3  2022-01-17 23:46:28  www.goibibo.com\n",
       "4  2022-01-17 23:48:38  www.goibibo.com"
      ]
     },
     "execution_count": 19,
     "metadata": {},
     "output_type": "execute_result"
    }
   ],
   "source": [
    "df.head()"
   ]
  },
  {
   "cell_type": "code",
   "execution_count": 20,
   "id": "eb879207",
   "metadata": {},
   "outputs": [
    {
     "data": {
      "text/html": [
       "<div>\n",
       "<style scoped>\n",
       "    .dataframe tbody tr th:only-of-type {\n",
       "        vertical-align: middle;\n",
       "    }\n",
       "\n",
       "    .dataframe tbody tr th {\n",
       "        vertical-align: top;\n",
       "    }\n",
       "\n",
       "    .dataframe thead th {\n",
       "        text-align: right;\n",
       "    }\n",
       "</style>\n",
       "<table border=\"1\" class=\"dataframe\">\n",
       "  <thead>\n",
       "    <tr style=\"text-align: right;\">\n",
       "      <th></th>\n",
       "      <th>Time</th>\n",
       "      <th>domain</th>\n",
       "    </tr>\n",
       "  </thead>\n",
       "  <tbody>\n",
       "    <tr>\n",
       "      <th>0</th>\n",
       "      <td>2022-01-17 23:42:02</td>\n",
       "      <td>www.google.com</td>\n",
       "    </tr>\n",
       "    <tr>\n",
       "      <th>1</th>\n",
       "      <td>2022-01-17 23:46:09</td>\n",
       "      <td>www.google.com</td>\n",
       "    </tr>\n",
       "    <tr>\n",
       "      <th>2</th>\n",
       "      <td>2022-01-17 23:46:22</td>\n",
       "      <td>www.google.com</td>\n",
       "    </tr>\n",
       "    <tr>\n",
       "      <th>3</th>\n",
       "      <td>2022-01-17 23:46:28</td>\n",
       "      <td>www.goibibo.com</td>\n",
       "    </tr>\n",
       "    <tr>\n",
       "      <th>4</th>\n",
       "      <td>2022-01-17 23:48:38</td>\n",
       "      <td>www.goibibo.com</td>\n",
       "    </tr>\n",
       "    <tr>\n",
       "      <th>...</th>\n",
       "      <td>...</td>\n",
       "      <td>...</td>\n",
       "    </tr>\n",
       "    <tr>\n",
       "      <th>17051</th>\n",
       "      <td>2022-04-17 12:43:01</td>\n",
       "      <td>github.com</td>\n",
       "    </tr>\n",
       "    <tr>\n",
       "      <th>17052</th>\n",
       "      <td>2022-04-17 12:43:01</td>\n",
       "      <td>github.com</td>\n",
       "    </tr>\n",
       "    <tr>\n",
       "      <th>17053</th>\n",
       "      <td>2022-04-17 12:43:16</td>\n",
       "      <td>github.com</td>\n",
       "    </tr>\n",
       "    <tr>\n",
       "      <th>17054</th>\n",
       "      <td>2022-04-17 12:44:37</td>\n",
       "      <td>github.com</td>\n",
       "    </tr>\n",
       "    <tr>\n",
       "      <th>17055</th>\n",
       "      <td>2022-04-17 13:18:10</td>\n",
       "      <td>docs.google.com</td>\n",
       "    </tr>\n",
       "  </tbody>\n",
       "</table>\n",
       "<p>17038 rows × 2 columns</p>\n",
       "</div>"
      ],
      "text/plain": [
       "                      Time           domain\n",
       "0      2022-01-17 23:42:02   www.google.com\n",
       "1      2022-01-17 23:46:09   www.google.com\n",
       "2      2022-01-17 23:46:22   www.google.com\n",
       "3      2022-01-17 23:46:28  www.goibibo.com\n",
       "4      2022-01-17 23:48:38  www.goibibo.com\n",
       "...                    ...              ...\n",
       "17051  2022-04-17 12:43:01       github.com\n",
       "17052  2022-04-17 12:43:01       github.com\n",
       "17053  2022-04-17 12:43:16       github.com\n",
       "17054  2022-04-17 12:44:37       github.com\n",
       "17055  2022-04-17 13:18:10  docs.google.com\n",
       "\n",
       "[17038 rows x 2 columns]"
      ]
     },
     "execution_count": 20,
     "metadata": {},
     "output_type": "execute_result"
    }
   ],
   "source": [
    "# clean data if you need to!!!!! \n",
    "def check(x):\n",
    "    # if True it will include\n",
    "    return True\n",
    "\n",
    "df_clean = df[[ check(x) for x in df.domain]]\n",
    "df_clean"
   ]
  },
  {
   "cell_type": "code",
   "execution_count": 21,
   "id": "ad506d8f",
   "metadata": {},
   "outputs": [],
   "source": [
    "# write to csv with a different name\n",
    "\n",
    "df_clean.to_csv('history_cleaned.csv', index=False)"
   ]
  },
  {
   "cell_type": "code",
   "execution_count": null,
   "id": "a455e348",
   "metadata": {},
   "outputs": [],
   "source": []
  },
  {
   "cell_type": "code",
   "execution_count": null,
   "id": "7f0c779f",
   "metadata": {},
   "outputs": [],
   "source": []
  }
 ],
 "metadata": {
  "kernelspec": {
   "display_name": "Python 3 (ipykernel)",
   "language": "python",
   "name": "python3"
  },
  "language_info": {
   "codemirror_mode": {
    "name": "ipython",
    "version": 3
   },
   "file_extension": ".py",
   "mimetype": "text/x-python",
   "name": "python",
   "nbconvert_exporter": "python",
   "pygments_lexer": "ipython3",
   "version": "3.9.7"
  }
 },
 "nbformat": 4,
 "nbformat_minor": 5
}
