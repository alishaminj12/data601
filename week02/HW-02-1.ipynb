{
 "cells": [
  {
   "cell_type": "markdown",
   "id": "425024c2",
   "metadata": {},
   "source": [
    "## Homework 2\n",
    "\n",
    "Please complete the functions below. These functions are for to simulate a fair and a biased die. \n",
    "\n",
    "The biased die has probabilities {0.20, 0.10, 0.15, 0.15, 0.15, 0.25}.\n",
    "\n",
    "Create 2 visualizations that shows outcomes of multiple rolls of a fair die and biased die. \n",
    "* Visualization for fair die\n",
    "* Visualization for biased die\n",
    "\n",
    "Repeat the process programatically and take the mean to create a new list. This list will be used to compare means of biased & unbiased dice. \n",
    "* Create a historgram showing means of biased & unbiased die\n",
    "\n",
    "* Use subcharts\n",
    "* All visualizations must have appropriate titles.\n",
    "* There are 3 visualization and expected format is \n",
    "```\n",
    " [V1] [V2]\n",
    " [   V3  ]\n",
    " ```"
   ]
  },
  {
   "cell_type": "markdown",
   "id": "db3f9416",
   "metadata": {},
   "source": [
    "## Simulation of Fair Die"
   ]
  },
  {
   "cell_type": "code",
   "execution_count": 1,
   "id": "7078d18a",
   "metadata": {},
   "outputs": [
    {
     "data": {
      "text/plain": [
       "Text(0, 0.5, 'Occurance')"
      ]
     },
     "execution_count": 1,
     "metadata": {},
     "output_type": "execute_result"
    },
    {
     "data": {
      "image/png": "[encoded data removed]",
      "text/plain": [
       "<Figure size 432x288 with 1 Axes>"
      ]
     },
     "metadata": {
      "needs_background": "light"
     },
     "output_type": "display_data"
    }
   ],
   "source": [
    "import random \n",
    "import matplotlib.pyplot as plt\n",
    "\n",
    "\n",
    "trial_count = 500\n",
    "\n",
    "def fair_die_simulation(trials):\n",
    "    \"\"\"\n",
    "    returns an array of randomly numbers between 1 and 6. \n",
    "    \"\"\"\n",
    "    \n",
    "    options = [1,2,3,4,5,6] \n",
    "    for i in range(trial_count):\n",
    "    # random selection of one item\n",
    "       simulation = random.choices(options, k=trials)\n",
    "    # simulations. append(random.choice(options))\n",
    "    return simulation\n",
    "fair_die = fair_die_simulation(trial_count)\n",
    "plt.hist(fair_die, bins=20)\n",
    "plt.title('Simulation of Fair Die')\n",
    "plt.xlabel('Numbers')\n",
    "plt.ylabel('Occurance')"
   ]
  },
  {
   "cell_type": "markdown",
   "id": "d3c79650",
   "metadata": {},
   "source": [
    "## Simulation of Biased Die"
   ]
  },
  {
   "cell_type": "code",
   "execution_count": 52,
   "id": "5a02e11e",
   "metadata": {},
   "outputs": [
    {
     "name": "stdout",
     "output_type": "stream",
     "text": [
      "[3, 1, 3, 1, 4, 2, 2, 3, 4, 6, 1, 2, 6, 4, 4, 2, 2, 4, 6, 3, 4, 3, 1, 5, 2, 1, 3, 6, 1, 4, 2, 1, 6, 5, 2, 1, 3, 2, 3, 5, 1, 5, 1, 3, 5, 2, 3, 6, 5, 6, 2, 2, 1, 1, 4, 6, 4, 4, 1, 4, 3, 2, 3, 3, 1, 2, 3, 5, 2, 4, 5, 1, 4, 2, 3, 2, 4, 2, 4, 1, 1, 5, 1, 4, 1, 1, 6, 3, 1, 1, 4, 4, 1, 3, 1, 1, 4, 4, 6, 2, 6, 6, 4, 1, 1, 3, 6, 3, 6, 2, 1, 1, 3, 1, 5, 6, 1, 6, 2, 3, 4, 6, 6, 3, 1, 3, 4, 6, 6, 2, 6, 6, 3, 5, 5, 2, 4, 3, 3, 4, 3, 4, 3, 2, 6, 6, 4, 6, 1, 5, 2, 2, 1, 2, 1, 4, 6, 1, 4, 6, 3, 2, 3, 5, 6, 1, 3, 5, 4, 3, 5, 1, 6, 6, 4, 6, 5, 1, 1, 2, 3, 4, 2, 2, 4, 1, 6, 1, 6, 5, 1, 2, 2, 1, 5, 4, 1, 3, 3, 4, 4, 3, 3, 3, 4, 2, 1, 1, 1, 2, 1, 3, 5, 4, 1, 5, 5, 3, 6, 2, 3, 6, 3, 6, 5, 6, 4, 4, 5, 3, 4, 3, 3, 1, 5, 5, 3, 5, 6, 5, 6, 4, 1, 4, 6, 3, 3, 6, 2, 4, 3, 5, 1, 5, 4, 2, 4, 4, 3, 1, 2, 2, 4, 2, 5, 4, 2, 3, 3, 5, 1, 6, 6, 6, 1, 1, 1, 5, 5, 5, 3, 1, 1, 6, 4, 1, 3, 2, 1, 6, 1, 3, 3, 5, 1, 4, 2, 2, 6, 6, 6, 1, 2, 5, 1, 2, 3, 2, 1, 3, 2, 1, 6, 3, 2, 1, 5, 6, 5, 1, 1, 1, 1, 3, 5, 6, 6, 2, 3, 4, 3, 3, 6, 6, 6, 1, 4, 6, 1, 4, 5, 4, 1, 3, 3, 1, 1, 1, 4, 3, 4, 1, 1, 2, 2, 4, 3, 1, 1, 4, 4, 3, 4, 6, 5, 3, 3, 4, 2, 6, 4, 1, 1, 1, 5, 3, 5, 1, 4, 5, 1, 3, 6, 3, 3, 5, 5, 6, 4, 2, 5, 1, 3, 1, 5, 3, 1, 6, 1, 6, 4, 1, 1, 4, 5, 3, 6, 1, 1, 5, 1, 1, 1, 1, 4, 6, 4, 1, 3, 6, 1, 6, 4, 4, 1, 1, 5, 3, 3, 4, 4, 1, 4, 2, 6, 2, 3, 2, 2, 6, 5, 4, 6, 3, 6, 3, 2, 6, 2, 2, 1, 2, 2, 3, 3, 6, 5, 5, 3, 2, 1, 3, 2, 1, 4, 2, 6, 2, 5, 4, 2, 5, 2, 5, 5, 4, 3, 1, 3, 2, 6, 6, 6, 5, 1, 1, 6, 3, 1, 2, 2, 1, 2, 3, 1, 1, 2, 1, 5, 1]\n",
      "[117, 75, 91, 78, 61, 78]\n"
     ]
    },
    {
     "data": {
      "text/plain": [
       "Text(0, 0.5, 'Occurance')"
      ]
     },
     "execution_count": 52,
     "metadata": {},
     "output_type": "execute_result"
    },
    {
     "data": {
      "image/png": "[encoded data removed]",
      "text/plain": [
       "<Figure size 432x288 with 1 Axes>"
      ]
     },
     "metadata": {
      "needs_background": "light"
     },
     "output_type": "display_data"
    }
   ],
   "source": [
    "def biased_die_simuations(trials, weights=[0.25, 0.15, 0.15, 0.15, 0.15, 0.15]):\n",
    "    \"\"\"\n",
    "    returns an array of randomly numbers between 1 and 6 with the probabilty of assosiated weight. \n",
    "    for instance: for weights: [0.25, 0.15, 0.15, 0.15, 0.15, 0.15]\n",
    "    1 has 0.25 change to be selected, 2 has 0.15 chance and so on...\n",
    "    \"\"\"\n",
    "    options = [1,2,3,4,5,6]\n",
    "    simulations = []\n",
    "   # biasedRoll = 0\n",
    "    for i in range(trials):\n",
    "        t=0\n",
    "        t=random.choices(options,weights)[0]\n",
    "        simulations.append(t)\n",
    "    return simulations\n",
    "    \n",
    "#     options = [1,2,3,4,5,6]\n",
    "#     simulations = random.choices(options, weights, k=trials) \n",
    "#     for i in range(trials):\n",
    "#         biased_die = biased_die_simulations(trial_count, weights=[0.25, 0.15, 0.15, 0.15, 0.15, 0.15])\n",
    "#         simulations.append(R)\n",
    "#     return simulations\n",
    "\n",
    "#biased = biased_die_simuations(500)\n",
    "print(biased)\n",
    "print([biased.count(1),\n",
    "       biased.count(2),\n",
    "       biased.count(3),\n",
    "       biased.count(4),\n",
    "       biased.count(5),\n",
    "       biased.count(6)])\n",
    "    \n",
    "plt.hist(biased, bins=20)\n",
    "plt.title('Simulation of Biased Die')\n",
    "plt.xlabel('Numbers')\n",
    "plt.ylabel('Occurance')"
   ]
  },
  {
   "cell_type": "markdown",
   "id": "d1fc6c98",
   "metadata": {},
   "source": [
    "## Mean of biased and fair dies"
   ]
  },
  {
   "cell_type": "code",
   "execution_count": 53,
   "id": "6e57928f",
   "metadata": {},
   "outputs": [
    {
     "name": "stdout",
     "output_type": "stream",
     "text": [
      "Biased mean list:\n",
      "[0.268, 0.132, 0.146, 0.134, 0.162, 0.158]\n",
      "Fair mean list:\n",
      "[0.162, 0.182, 0.144, 0.158, 0.2, 0.154]\n"
     ]
    },
    {
     "data": {
      "text/plain": [
       "Text(0.5, 1.0, 'Fair Mean List and Biased Die')"
      ]
     },
     "execution_count": 53,
     "metadata": {},
     "output_type": "execute_result"
    },
    {
     "data": {
      "image/png": "[encoded data removed]",
      "text/plain": [
       "<Figure size 432x288 with 3 Axes>"
      ]
     },
     "metadata": {
      "needs_background": "light"
     },
     "output_type": "display_data"
    }
   ],
   "source": [
    " \n",
    "\n",
    "# biased to store biased simulation\n",
    "#biased = biased_die_simuations(trial_count)\n",
    "#fair to store fair die simulation\n",
    "#fair = fair_die_simulation(trial_count)\n",
    "\n",
    "#biased and unbiased mean list\n",
    "biased = (biased_die_simuations(500))\n",
    "#biased_mean_lists = biased_die_simuations(500)\n",
    "#print(biased_mean_lists)\n",
    "biased_mean_lists= [ biased.count(1)/500, \n",
    "                     biased.count(2)/500,\n",
    "                     biased.count(3)/500,\n",
    "                     biased.count(4)/500,\n",
    "                     biased.count(5)/500,\n",
    "                     biased.count(6)/500]\n",
    "\n",
    "\n",
    "fair = fair_die_simulation(500)\n",
    "unbiased_mean_list = [ fair.count(1)/500,\n",
    "                 fair.count(2)/500,\n",
    "                 fair.count(3)/500,\n",
    "                 fair.count(4)/500,\n",
    "                 fair.count(5)/500,\n",
    "                 fair.count(6)/500]\n",
    "\n",
    "\n",
    "print(\"Biased mean list:\")\n",
    "print(biased_mean_lists)\n",
    "print(\"Fair mean list:\")\n",
    "print(unbiased_mean_list)\n",
    "\n",
    "# plt.figure()\n",
    "\n",
    "# plt.subplot(3,2,1)\n",
    "# n_bin = 20\n",
    "\n",
    "plt.figure()\n",
    "plt.subplot(2,2,1)\n",
    "plt.hist(unbiased_mean_list,density=True,bins=20)\n",
    "plt.title('Fair Die Mean')\n",
    "\n",
    "plt.subplot(2,2,2)\n",
    "plt.hist(biased_mean_lists,density=True,bins=20)\n",
    "plt.title('Biased Die Mean')\n",
    "\n",
    "plt.subplot(2,2,(3,4))\n",
    "plt.hist(biased_mean_lists,density=True,bins=20)\n",
    "plt.hist(unbiased_mean_list,density=True,bins=20)\n",
    "plt.title('Fair Mean List and Biased Die')"
   ]
  },
  {
   "cell_type": "code",
   "execution_count": null,
   "id": "f0801fad",
   "metadata": {},
   "outputs": [],
   "source": []
  },
  {
   "cell_type": "code",
   "execution_count": null,
   "id": "cb5bcbb9",
   "metadata": {},
   "outputs": [],
   "source": []
  },
  {
   "cell_type": "code",
   "execution_count": null,
   "id": "5bb897fa",
   "metadata": {},
   "outputs": [],
   "source": []
  }
 ],
 "metadata": {
  "kernelspec": {
   "display_name": "Python 3 (ipykernel)",
   "language": "python",
   "name": "python3"
  },
  "language_info": {
   "codemirror_mode": {
    "name": "ipython",
    "version": 3
   },
   "file_extension": ".py",
   "mimetype": "text/x-python",
   "name": "python",
   "nbconvert_exporter": "python",
   "pygments_lexer": "ipython3",
   "version": "3.9.7"
  },
  "toc": {
   "base_numbering": 1,
   "nav_menu": {},
   "number_sections": true,
   "sideBar": true,
   "skip_h1_title": false,
   "title_cell": "Table of Contents",
   "title_sidebar": "Contents",
   "toc_cell": false,
   "toc_position": {},
   "toc_section_display": true,
   "toc_window_display": false
  }
 },
 "nbformat": 4,
 "nbformat_minor": 5
}
