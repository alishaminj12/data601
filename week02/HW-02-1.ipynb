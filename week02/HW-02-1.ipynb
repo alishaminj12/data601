{
 "cells": [
  {
   "cell_type": "markdown",
   "id": "425024c2",
   "metadata": {},
   "source": [
    "## Homework 2\n",
    "\n",
    "Please complete the functions below. These functions are for to simulate a fair and a biased die. \n",
    "\n",
    "The biased die has probabilities {0.20, 0.10, 0.15, 0.15, 0.15, 0.25}.\n",
    "\n",
    "Create 2 visualizations that shows outcomes of multiple rolls of a fair die and biased die. \n",
    "* Visualization for fair die\n",
    "* Visualization for biased die\n",
    "\n",
    "Repeat the process programatically and take the mean to create a new list. This list will be used to compare means of biased & unbiased dice. \n",
    "* Create a historgram showing means of biased & unbiased die\n",
    "\n",
    "* Use subcharts\n",
    "* All visualizations must have appropriate titles.\n",
    "* There are 3 visualization and expected format is \n",
    "```\n",
    " [V1] [V2]\n",
    " [   V3  ]\n",
    " ```"
   ]
  },
  {
   "cell_type": "code",
   "execution_count": 1,
   "id": "7078d18a",
   "metadata": {},
   "outputs": [
    {
     "data": {
      "text/plain": [
       "Text(0, 0.5, 'Occurance')"
      ]
     },
     "execution_count": 1,
     "metadata": {},
     "output_type": "execute_result"
    },
    {
     "data": {
      "image/png": "[encoded data removed]",
      "text/plain": [
       "<Figure size 432x288 with 1 Axes>"
      ]
     },
     "metadata": {
      "needs_background": "light"
     },
     "output_type": "display_data"
    }
   ],
   "source": [
    "import random \n",
    "import matplotlib.pyplot as plt\n",
    "\n",
    "\n",
    "trial_count = 500\n",
    "\n",
    "def fair_die_simulation(trials):\n",
    "    \"\"\"\n",
    "    returns an array of randomly numbers between 1 and 6. \n",
    "    \"\"\"\n",
    "    \n",
    "    options = [1,2,3,4,5,6] \n",
    "    for i in range(trial_count):\n",
    "    # random selection of one item\n",
    "       simulation = random.choices(options, k=trials)\n",
    "    # simulations. append(random.choice(options))\n",
    "    return simulation\n",
    "fair_die = fair_die_simulation(trial_count)\n",
    "plt.hist(fair_die, bins=20)\n",
    "plt.title('Simulation of Fair Die')\n",
    "plt.xlabel('Numbers')\n",
    "plt.ylabel('Occurance')"
   ]
  },
  {
   "cell_type": "code",
   "execution_count": 24,
   "id": "5a02e11e",
   "metadata": {},
   "outputs": [
    {
     "name": "stdout",
     "output_type": "stream",
     "text": [
      "[5, 3, 6, 1, 3, 3, 2, 4, 6, 6, 5, 2, 2, 2, 5, 3, 4, 2, 5, 4, 4, 1, 1, 3, 1, 2, 3, 4, 1, 2, 1, 5, 5, 3, 1, 4, 4, 2, 4, 5, 2, 4, 2, 5, 3, 3, 1, 6, 5, 1, 2, 4, 2, 4, 5, 1, 1, 3, 1, 5, 4, 1, 5, 1, 3, 6, 1, 1, 3, 6, 1, 1, 1, 3, 1, 4, 2, 5, 1, 5, 3, 5, 1, 5, 6, 2, 1, 3, 5, 5, 4, 1, 5, 1, 4, 1, 1, 5, 4, 4, 1, 3, 2, 2, 3, 5, 1, 6, 2, 4, 1, 2, 5, 4, 4, 5, 3, 4, 2, 4, 1, 1, 5, 2, 4, 1, 4, 5, 1, 6, 3, 5, 4, 3, 2, 2, 2, 6, 5, 3, 1, 1, 2, 2, 2, 6, 3, 4, 1, 6, 1, 3, 3, 4, 6, 5, 1, 1, 1, 1, 6, 1, 6, 4, 1, 1, 1, 6, 3, 5, 2, 3, 4, 6, 5, 1, 4, 3, 1, 6, 5, 1, 1, 1, 6, 2, 2, 3, 2, 1, 6, 2, 2, 2, 1, 1, 1, 6, 4, 2, 5, 5, 2, 6, 4, 6, 6, 4, 2, 4, 2, 5, 1, 1, 1, 6, 3, 5, 2, 1, 4, 4, 4, 3, 2, 5, 6, 1, 4, 3, 4, 6, 1, 1, 4, 5, 5, 5, 3, 2, 6, 2, 4, 2, 4, 3, 2, 5, 6, 4, 2, 1, 6, 3, 1, 1, 2, 3, 3, 6, 3, 6, 5, 6, 3, 2, 5, 4, 5, 1, 1, 3, 1, 1, 1, 3, 5, 6, 3, 2, 1, 1, 5, 1, 2, 2, 1, 4, 3, 6, 1, 4, 5, 3, 2, 3, 1, 4, 2, 1, 6, 3, 1, 1, 3, 5, 5, 2, 2, 2, 3, 4, 5, 1, 1, 1, 5, 4, 2, 3, 6, 1, 6, 5, 5, 1, 3, 3, 2, 1, 2, 3, 5, 6, 1, 5, 3, 1, 1, 4, 6, 6, 1, 1, 1, 2, 3, 5, 1, 2, 4, 5, 5, 3, 6, 4, 3, 2, 5, 3, 3, 6, 2, 2, 1, 5, 1, 6, 6, 2, 2, 4, 1, 4, 6, 3, 6, 4, 1, 4, 4, 6, 4, 3, 3, 1, 4, 2, 1, 3, 5, 6, 3, 2, 2, 1, 4, 6, 5, 4, 5, 4, 2, 3, 1, 1, 1, 1, 2, 2, 3, 3, 2, 3, 2, 1, 2, 1, 2, 4, 4, 3, 2, 1, 2, 2, 6, 1, 3, 1, 1, 6, 2, 4, 5, 6, 3, 5, 2, 3, 2, 3, 2, 1, 1, 2, 6, 3, 4, 3, 4, 4, 2, 6, 2, 1, 2, 1, 1, 1, 5, 5, 2, 2, 1, 1, 2, 3, 1, 6, 1, 1, 4, 1, 2, 5, 6, 4, 5, 4, 5, 3, 3, 1, 3, 4, 5, 3, 3, 1, 1, 5, 5, 4, 3, 3, 6, 6, 6, 5]\n",
      "[124, 89, 81, 73, 73, 60]\n"
     ]
    },
    {
     "data": {
      "text/plain": [
       "Text(0, 0.5, 'Occurance')"
      ]
     },
     "execution_count": 24,
     "metadata": {},
     "output_type": "execute_result"
    },
    {
     "data": {
      "image/png": "[encoded data removed]",
      "text/plain": [
       "<Figure size 432x288 with 1 Axes>"
      ]
     },
     "metadata": {
      "needs_background": "light"
     },
     "output_type": "display_data"
    }
   ],
   "source": [
    "def biased_die_simuations(trials, weights=[0.25, 0.15, 0.15, 0.15, 0.15, 0.15]):\n",
    "    \"\"\"\n",
    "    returns an array of randomly numbers between 1 and 6 with the probabilty of assosiated weight. \n",
    "    for instance: for weights: [0.25, 0.15, 0.15, 0.15, 0.15, 0.15]\n",
    "    1 has 0.25 change to be selected, 2 has 0.15 chance and so on...\n",
    "    \"\"\"\n",
    "    \n",
    "    options = [1,2,3,4,5,6]\n",
    "    simulations = random.choices(options, weights, k=trials) \n",
    "    for i in range(trials):\n",
    "        biased_die = biased_die_simulations(trial_count, weights=[0.25, 0.15, 0.15, 0.15, 0.15, 0.15])\n",
    "        simulations.append(R)\n",
    "    return simulations\n",
    "#biased = biased_die_simuations(500)\n",
    "print(biased)\n",
    "print([biased.count(1),\n",
    "       biased.count(2),\n",
    "       biased.count(3),\n",
    "       biased.count(4),\n",
    "       biased.count(5),\n",
    "       biased.count(6)])\n",
    "    \n",
    "plt.hist(biased, bins=20)\n",
    "plt.title('Simulation of Biased Die')\n",
    "plt.xlabel('Numbers')\n",
    "plt.ylabel('Occurance')"
   ]
  },
  {
   "cell_type": "code",
   "execution_count": null,
   "id": "d209b72c",
   "metadata": {},
   "outputs": [],
   "source": [
    " "
   ]
  },
  {
   "cell_type": "code",
   "execution_count": 34,
   "id": "820b8321",
   "metadata": {},
   "outputs": [
    {
     "ename": "NameError",
     "evalue": "name 'biased_die_simulations' is not defined",
     "output_type": "error",
     "traceback": [
      "\u001b[1;31m---------------------------------------------------------------------------\u001b[0m",
      "\u001b[1;31mNameError\u001b[0m                                 Traceback (most recent call last)",
      "\u001b[1;32m~\\AppData\\Local\\Temp/ipykernel_5480/994970420.py\u001b[0m in \u001b[0;36m<module>\u001b[1;34m\u001b[0m\n\u001b[0;32m      5\u001b[0m \u001b[1;33m\u001b[0m\u001b[0m\n\u001b[0;32m      6\u001b[0m \u001b[1;31m#biased and unbiased mean list\u001b[0m\u001b[1;33m\u001b[0m\u001b[1;33m\u001b[0m\u001b[0m\n\u001b[1;32m----> 7\u001b[1;33m \u001b[0mbiased\u001b[0m \u001b[1;33m=\u001b[0m \u001b[0mbiased_die_simuations\u001b[0m\u001b[1;33m(\u001b[0m\u001b[1;36m500\u001b[0m\u001b[1;33m)\u001b[0m\u001b[1;33m\u001b[0m\u001b[1;33m\u001b[0m\u001b[0m\n\u001b[0m\u001b[0;32m      8\u001b[0m \u001b[0mbiased_mean_lists\u001b[0m \u001b[1;33m=\u001b[0m \u001b[0mbiased_die_simuations\u001b[0m\u001b[1;33m(\u001b[0m\u001b[1;36m500\u001b[0m\u001b[1;33m)\u001b[0m\u001b[1;33m\u001b[0m\u001b[1;33m\u001b[0m\u001b[0m\n\u001b[0;32m      9\u001b[0m \u001b[0mprint\u001b[0m\u001b[1;33m(\u001b[0m\u001b[0mbiased_mean_lists\u001b[0m\u001b[1;33m)\u001b[0m\u001b[1;33m\u001b[0m\u001b[1;33m\u001b[0m\u001b[0m\n",
      "\u001b[1;32m~\\AppData\\Local\\Temp/ipykernel_5480/1842266418.py\u001b[0m in \u001b[0;36mbiased_die_simuations\u001b[1;34m(trials, weights)\u001b[0m\n\u001b[0;32m      9\u001b[0m     \u001b[0msimulations\u001b[0m \u001b[1;33m=\u001b[0m \u001b[0mrandom\u001b[0m\u001b[1;33m.\u001b[0m\u001b[0mchoices\u001b[0m\u001b[1;33m(\u001b[0m\u001b[0moptions\u001b[0m\u001b[1;33m,\u001b[0m \u001b[0mweights\u001b[0m\u001b[1;33m,\u001b[0m \u001b[0mk\u001b[0m\u001b[1;33m=\u001b[0m\u001b[0mtrials\u001b[0m\u001b[1;33m)\u001b[0m\u001b[1;33m\u001b[0m\u001b[1;33m\u001b[0m\u001b[0m\n\u001b[0;32m     10\u001b[0m     \u001b[1;32mfor\u001b[0m \u001b[0mi\u001b[0m \u001b[1;32min\u001b[0m \u001b[0mrange\u001b[0m\u001b[1;33m(\u001b[0m\u001b[0mtrials\u001b[0m\u001b[1;33m)\u001b[0m\u001b[1;33m:\u001b[0m\u001b[1;33m\u001b[0m\u001b[1;33m\u001b[0m\u001b[0m\n\u001b[1;32m---> 11\u001b[1;33m         \u001b[0mbiased_die\u001b[0m \u001b[1;33m=\u001b[0m \u001b[0mbiased_die_simulations\u001b[0m\u001b[1;33m(\u001b[0m\u001b[0mtrial_count\u001b[0m\u001b[1;33m,\u001b[0m \u001b[0mweights\u001b[0m\u001b[1;33m=\u001b[0m\u001b[1;33m[\u001b[0m\u001b[1;36m0.25\u001b[0m\u001b[1;33m,\u001b[0m \u001b[1;36m0.15\u001b[0m\u001b[1;33m,\u001b[0m \u001b[1;36m0.15\u001b[0m\u001b[1;33m,\u001b[0m \u001b[1;36m0.15\u001b[0m\u001b[1;33m,\u001b[0m \u001b[1;36m0.15\u001b[0m\u001b[1;33m,\u001b[0m \u001b[1;36m0.15\u001b[0m\u001b[1;33m]\u001b[0m\u001b[1;33m)\u001b[0m\u001b[1;33m\u001b[0m\u001b[1;33m\u001b[0m\u001b[0m\n\u001b[0m\u001b[0;32m     12\u001b[0m         \u001b[0msimulations\u001b[0m\u001b[1;33m.\u001b[0m\u001b[0mappend\u001b[0m\u001b[1;33m(\u001b[0m\u001b[0mR\u001b[0m\u001b[1;33m)\u001b[0m\u001b[1;33m\u001b[0m\u001b[1;33m\u001b[0m\u001b[0m\n\u001b[0;32m     13\u001b[0m     \u001b[1;32mreturn\u001b[0m \u001b[0msimulations\u001b[0m\u001b[1;33m\u001b[0m\u001b[1;33m\u001b[0m\u001b[0m\n",
      "\u001b[1;31mNameError\u001b[0m: name 'biased_die_simulations' is not defined"
     ]
    }
   ],
   "source": [
    "# biased to store biased simulation\n",
    "#biased = biased_die_simuations(trial_count)\n",
    "#fair to store fair die simulation\n",
    "#fair = fair_die_simulation(trial_count)\n",
    "\n",
    "#biased and unbiased mean list\n",
    "biased = biased_die_simuations(500)\n",
    "biased_mean_lists = biased_die_simuations(500)\n",
    "print(biased_mean_lists)\n",
    "print(biased_mean_lists[ biased.count(1)/500, \n",
    "                     biased.count(2)/500,\n",
    "                     biased.count(3)/500,\n",
    "                     biased.count(4)/500,\n",
    "                     biased.count(5)/500,\n",
    "                     biased.count(6)/500])\n",
    "\n",
    "\n",
    "fair = fair_die_simulation(500)\n",
    "unbiased_mean_list = fair_mean_list[ fair.count(1)/500,\n",
    "                 fair.count(2)/500,\n",
    "                 fair.count(3)/500,\n",
    "                 fair.count(4)/500,\n",
    "                 fair.count(5)/500,\n",
    "                 fair.count(6)/500]\n",
    "\n",
    "\n",
    "print(\"Biased mean list:\")\n",
    "print(biased_mean_lists)\n",
    "print(\"Fair mean list:\")\n",
    "print(fair_mean_list)\n",
    "\n",
    "plt.figure()\n",
    "# simulation for fair dies\n",
    "plt.subplot(3,2,1)\n",
    "n_bin = 20\n",
    "\n",
    "plt.figure()\n",
    "plt.subplot(2,2,1)\n",
    "plt.hist(fair_mean_list,density=True,bins=20)\n",
    "plt.title('Fair Die Mean')\n",
    "\n",
    "plt.subplot(2,2,2)\n",
    "plt.hist(biased_mean_lists,density=True,bins=20)\n",
    "plt.title('Biased Die Mean')\n",
    "\n",
    "plt.subplot(2,2,(3,4))\n",
    "plt.hist(biased_mean_listst,density=True,bins=20)\n",
    "plt.hist(fair_mean_list,density=True,bins=20)\n",
    "plt.title('Fair and Biased Die')"
   ]
  },
  {
   "cell_type": "code",
   "execution_count": null,
   "id": "f0801fad",
   "metadata": {},
   "outputs": [],
   "source": []
  },
  {
   "cell_type": "code",
   "execution_count": null,
   "id": "cb5bcbb9",
   "metadata": {},
   "outputs": [],
   "source": []
  },
  {
   "cell_type": "code",
   "execution_count": null,
   "id": "5bb897fa",
   "metadata": {},
   "outputs": [],
   "source": []
  }
 ],
 "metadata": {
  "kernelspec": {
   "display_name": "Python 3 (ipykernel)",
   "language": "python",
   "name": "python3"
  },
  "language_info": {
   "codemirror_mode": {
    "name": "ipython",
    "version": 3
   },
   "file_extension": ".py",
   "mimetype": "text/x-python",
   "name": "python",
   "nbconvert_exporter": "python",
   "pygments_lexer": "ipython3",
   "version": "3.9.7"
  },
  "toc": {
   "base_numbering": 1,
   "nav_menu": {},
   "number_sections": true,
   "sideBar": true,
   "skip_h1_title": false,
   "title_cell": "Table of Contents",
   "title_sidebar": "Contents",
   "toc_cell": false,
   "toc_position": {},
   "toc_section_display": true,
   "toc_window_display": false
  }
 },
 "nbformat": 4,
 "nbformat_minor": 5
}
