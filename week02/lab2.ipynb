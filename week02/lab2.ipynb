{
 "cells": [
  {
   "cell_type": "markdown",
   "id": "495b7faf",
   "metadata": {},
   "source": [
    "# Part-IV\n",
    "\n",
    "## Lab Part1\n",
    "\n",
    "Please choose appropriate graph and visualize the followings with correct/appropriate labels\n",
    "\n",
    "* Height only\n",
    "* Points only\n",
    "* Height vs Points"
   ]
  },
  {
   "cell_type": "code",
   "execution_count": 5,
   "id": "9c15011b",
   "metadata": {},
   "outputs": [],
   "source": [
    "import pandas as pd\n",
    "\n",
    "nba_players = pd.read_csv('https://raw.githubusercontent.com/msaricaumbc/DS_data/master/all_seasons.csv', index_col = 0)\n",
    "\n",
    "height = nba_players['player_height']\n",
    "points = nba_players['pts']"
   ]
  },
  {
   "cell_type": "code",
   "execution_count": 6,
   "id": "13ca1c1c",
   "metadata": {},
   "outputs": [
    {
     "data": {
      "text/plain": [
       "0        213.36\n",
       "1        210.82\n",
       "2        208.28\n",
       "3        210.82\n",
       "4        205.74\n",
       "          ...  \n",
       "11695    190.50\n",
       "11696    200.66\n",
       "11697    195.58\n",
       "11698    203.20\n",
       "11699    203.20\n",
       "Name: player_height, Length: 11700, dtype: float64"
      ]
     },
     "execution_count": 6,
     "metadata": {},
     "output_type": "execute_result"
    }
   ],
   "source": [
    "import matplotlib.pyplot as plt\n",
    "nba_players.player_height"
   ]
  },
  {
   "cell_type": "code",
   "execution_count": 7,
   "id": "cd545a6a",
   "metadata": {},
   "outputs": [
    {
     "data": {
      "text/plain": [
       "(array([1.800e+01, 1.000e+00, 1.900e+02, 1.251e+03, 1.468e+03, 3.014e+03,\n",
       "        3.712e+03, 1.882e+03, 1.380e+02, 2.600e+01]),\n",
       " array([160.02 , 167.132, 174.244, 181.356, 188.468, 195.58 , 202.692,\n",
       "        209.804, 216.916, 224.028, 231.14 ]),\n",
       " <BarContainer object of 10 artists>)"
      ]
     },
     "execution_count": 7,
     "metadata": {},
     "output_type": "execute_result"
    },
    {
     "data": {
      "image/png": "[encoded data removed]",
      "text/plain": [
       "<Figure size 432x288 with 1 Axes>"
      ]
     },
     "metadata": {
      "needs_background": "light"
     },
     "output_type": "display_data"
    }
   ],
   "source": [
    "plt.hist(nba_players.player_height)"
   ]
  },
  {
   "cell_type": "code",
   "execution_count": 8,
   "id": "6edc2399",
   "metadata": {},
   "outputs": [
    {
     "data": {
      "text/plain": [
       "0         4.8\n",
       "1         0.3\n",
       "2         4.5\n",
       "3         7.8\n",
       "4         3.7\n",
       "         ... \n",
       "11695     2.8\n",
       "11696     5.2\n",
       "11697     6.1\n",
       "11698    13.4\n",
       "11699    12.4\n",
       "Name: pts, Length: 11700, dtype: float64"
      ]
     },
     "execution_count": 8,
     "metadata": {},
     "output_type": "execute_result"
    }
   ],
   "source": [
    "nba_players.pts"
   ]
  },
  {
   "cell_type": "code",
   "execution_count": 9,
   "id": "efd12fbe",
   "metadata": {},
   "outputs": [
    {
     "data": {
      "text/plain": [
       "(array([2999., 3300., 2162., 1461.,  841.,  544.,  229.,  131.,   29.,\n",
       "           4.]),\n",
       " array([ 0.  ,  3.61,  7.22, 10.83, 14.44, 18.05, 21.66, 25.27, 28.88,\n",
       "        32.49, 36.1 ]),\n",
       " <BarContainer object of 10 artists>)"
      ]
     },
     "execution_count": 9,
     "metadata": {},
     "output_type": "execute_result"
    },
    {
     "data": {
      "image/png": "[encoded data removed]",
      "text/plain": [
       "<Figure size 432x288 with 1 Axes>"
      ]
     },
     "metadata": {
      "needs_background": "light"
     },
     "output_type": "display_data"
    }
   ],
   "source": [
    "plt.hist(nba_players.pts)"
   ]
  },
  {
   "cell_type": "code",
   "execution_count": 10,
   "id": "10e3c73c",
   "metadata": {},
   "outputs": [
    {
     "data": {
      "image/png": "[encoded data removed]",
      "text/plain": [
       "<Figure size 432x288 with 1 Axes>"
      ]
     },
     "metadata": {
      "needs_background": "light"
     },
     "output_type": "display_data"
    }
   ],
   "source": [
    "plt.scatter(nba_players.player_height, nba_players.pts)\n",
    "# change x-label\n",
    "plt.xlabel('Player Height')\n",
    "\n",
    "# change y-label\n",
    "plt.ylabel('Points')\n",
    "\n",
    "# change title\n",
    "plt.title('NBA Player Height vs Points')\n",
    "\n",
    "plt.draw()\n"
   ]
  },
  {
   "cell_type": "markdown",
   "id": "dfb290f9",
   "metadata": {},
   "source": [
    "## Lab Part2\n",
    "Please visualize year vs score with correct/appropriate labels"
   ]
  },
  {
   "cell_type": "code",
   "execution_count": 11,
   "id": "47e84bf3",
   "metadata": {},
   "outputs": [],
   "source": [
    "bowling_data = pd.read_csv(\"https://raw.githubusercontent.com/msaricaumbc/DS_data/master/bowling_stats.csv\",\n",
    "                            header=None,\n",
    "                            names=['year','city','state','count1','count2'])\n",
    "def merge_columns(row):\n",
    "    if pd.isna(row['count2']):\n",
    "        return row['count1']\n",
    "    else:\n",
    "        return row['count1']*1000+row['count2']\n",
    "    \n",
    "bowling_data['total']=bowling_data.apply(merge_columns,axis=1)\n",
    "\n",
    "year = bowling_data['year']\n",
    "score = bowling_data['total']"
   ]
  },
  {
   "cell_type": "code",
   "execution_count": 14,
   "id": "a7de6537",
   "metadata": {},
   "outputs": [
    {
     "data": {
      "image/png": "[encoded data removed]",
      "text/plain": [
       "<Figure size 432x288 with 1 Axes>"
      ]
     },
     "metadata": {
      "needs_background": "light"
     },
     "output_type": "display_data"
    }
   ],
   "source": [
    "import matplotlib.pyplot as plt\n",
    "plt.scatter(bowling_data.year, bowling_data.total)\n",
    "# change x-label\n",
    "plt.xlabel('total score')\n",
    "\n",
    "# change y-label\n",
    "plt.ylabel('year')\n",
    "\n",
    "# change title\n",
    "plt.title('Year vs Total Score')\n",
    "\n",
    "plt.draw()\n"
   ]
  },
  {
   "cell_type": "code",
   "execution_count": null,
   "id": "6a194773",
   "metadata": {},
   "outputs": [],
   "source": []
  }
 ],
 "metadata": {
  "kernelspec": {
   "display_name": "Python 3 (ipykernel)",
   "language": "python",
   "name": "python3"
  },
  "language_info": {
   "codemirror_mode": {
    "name": "ipython",
    "version": 3
   },
   "file_extension": ".py",
   "mimetype": "text/x-python",
   "name": "python",
   "nbconvert_exporter": "python",
   "pygments_lexer": "ipython3",
   "version": "3.9.7"
  },
  "toc": {
   "base_numbering": 1,
   "nav_menu": {},
   "number_sections": true,
   "sideBar": true,
   "skip_h1_title": false,
   "title_cell": "Table of Contents",
   "title_sidebar": "Contents",
   "toc_cell": false,
   "toc_position": {},
   "toc_section_display": true,
   "toc_window_display": false
  }
 },
 "nbformat": 4,
 "nbformat_minor": 5
}
