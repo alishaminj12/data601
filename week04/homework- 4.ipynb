{
 "cells": [
  {
   "cell_type": "markdown",
   "id": "735a7ac8",
   "metadata": {},
   "source": [
    "# Homework 4 \n",
    "\n",
    "1. Acquire power data (https://www.bmreports.com/bmrs/?q=demand/rollingsystemdemand/historic) for 7 days (Include each day of the week)\n",
    "\n",
    "1. Create two bar graphs of the power consumption per hour.\n",
    "\n",
    "    * One bar graph has 24 bars showing the average consumption\n",
    "    * One bar graph has 7x24 bars showing the average demand \n",
    "\n",
    "1. Your solution should be committed in your Week04 folder.\n",
    "\n",
    "Graphs must have appropriate labels and there should not be anything extra cluttering. "
   ]
  },
  {
   "cell_type": "markdown",
   "id": "d810bef6",
   "metadata": {},
   "source": [
    "## 1. Acquire power data (https://www.bmreports.com/bmrs/?q=demand/rollingsystemdemand) for at least 10 days and not more than 40 days"
   ]
  },
  {
   "cell_type": "code",
   "execution_count": 12,
   "id": "c1aaa8d3",
   "metadata": {},
   "outputs": [],
   "source": [
    "import pandas as pd\n",
    "import matplotlib.pyplot as plt\n",
    "import numpy as np\n",
    "from datetime import datetime\n",
    "import time\n",
    "%matplotlib inline\n",
    "import seaborn as sn"
   ]
  },
  {
   "cell_type": "code",
   "execution_count": 13,
   "id": "24c8814a",
   "metadata": {},
   "outputs": [],
   "source": [
    "data1=pd.read_csv(r\"C:\\Users\\HP\\OneDrive\\Desktop\\Data601 Jupyter notebook\\RollingSystemDemand_data1.csv\",skipfooter=1,engine='python')\n",
    "data2=pd.read_csv(r\"C:\\Users\\HP\\OneDrive\\Desktop\\Data601 Jupyter notebook\\RollingSystemDemand_data2.csv\",skipfooter=1,engine='python')\n",
    "data3=pd.read_csv(r\"C:\\Users\\HP\\OneDrive\\Desktop\\Data601 Jupyter notebook\\RollingSystemDemand_data3.csv\",skipfooter=1,engine='python')"
   ]
  },
  {
   "cell_type": "code",
   "execution_count": 14,
   "id": "9ee88413",
   "metadata": {},
   "outputs": [],
   "source": [
    "dataframe=pd.concat([data1,data2,data3],axis=0) #Combining all the three data files"
   ]
  },
  {
   "cell_type": "code",
   "execution_count": 15,
   "id": "981ba98d",
   "metadata": {},
   "outputs": [
    {
     "data": {
      "text/html": [
       "<div>\n",
       "<style scoped>\n",
       "    .dataframe tbody tr th:only-of-type {\n",
       "        vertical-align: middle;\n",
       "    }\n",
       "\n",
       "    .dataframe tbody tr th {\n",
       "        vertical-align: top;\n",
       "    }\n",
       "\n",
       "    .dataframe thead th {\n",
       "        text-align: right;\n",
       "    }\n",
       "</style>\n",
       "<table border=\"1\" class=\"dataframe\">\n",
       "  <thead>\n",
       "    <tr style=\"text-align: right;\">\n",
       "      <th></th>\n",
       "      <th>DATE_TIME</th>\n",
       "      <th>ROLLING SYSTEM DEMAND</th>\n",
       "    </tr>\n",
       "  </thead>\n",
       "  <tbody>\n",
       "    <tr>\n",
       "      <th>VD</th>\n",
       "      <td>20220128000000</td>\n",
       "      <td>30185</td>\n",
       "    </tr>\n",
       "    <tr>\n",
       "      <th>VD</th>\n",
       "      <td>20220128000500</td>\n",
       "      <td>30171</td>\n",
       "    </tr>\n",
       "    <tr>\n",
       "      <th>VD</th>\n",
       "      <td>20220128001000</td>\n",
       "      <td>30180</td>\n",
       "    </tr>\n",
       "    <tr>\n",
       "      <th>VD</th>\n",
       "      <td>20220128001500</td>\n",
       "      <td>30155</td>\n",
       "    </tr>\n",
       "    <tr>\n",
       "      <th>VD</th>\n",
       "      <td>20220128002000</td>\n",
       "      <td>30098</td>\n",
       "    </tr>\n",
       "  </tbody>\n",
       "</table>\n",
       "</div>"
      ],
      "text/plain": [
       "         DATE_TIME  ROLLING SYSTEM DEMAND\n",
       "VD  20220128000000                  30185\n",
       "VD  20220128000500                  30171\n",
       "VD  20220128001000                  30180\n",
       "VD  20220128001500                  30155\n",
       "VD  20220128002000                  30098"
      ]
     },
     "execution_count": 15,
     "metadata": {},
     "output_type": "execute_result"
    }
   ],
   "source": [
    "dataframe = dataframe.rename(columns={\"HDR\": \"DATE_TIME\"})\n",
    "dataframe.head()"
   ]
  },
  {
   "cell_type": "code",
   "execution_count": 18,
   "id": "5f2c8936",
   "metadata": {},
   "outputs": [],
   "source": [
    "dataframe[\"DATE_TIME\"]=pd.to_datetime(dataframe['DATE_TIME'].astype(str),format = '%Y%m%d%H%M%S')\n"
   ]
  },
  {
   "cell_type": "code",
   "execution_count": 19,
   "id": "b8405560",
   "metadata": {},
   "outputs": [],
   "source": [
    "df = pd.DatetimeIndex(data['DATE_TIME'])\n",
    "hour = dataframe.groupby([df.hour])['ROLLING SYSTEM DEMAND'].mean()\n"
   ]
  },
  {
   "cell_type": "code",
   "execution_count": 20,
   "id": "f13659d5",
   "metadata": {},
   "outputs": [],
   "source": [
    "hour1 = data.groupby([df.date,df.hour])['ROLLING SYSTEM DEMAND'].sum()"
   ]
  },
  {
   "cell_type": "code",
   "execution_count": 21,
   "id": "728bd84d",
   "metadata": {},
   "outputs": [
    {
     "data": {
      "image/png": "[encoded data removed]",
      "text/plain": [
       "<Figure size 720x360 with 1 Axes>"
      ]
     },
     "metadata": {
      "needs_background": "light"
     },
     "output_type": "display_data"
    }
   ],
   "source": [
    "hour.plot.bar(x='hour', figsize=(10,5))\n",
    "plt.title(\"Average hours of Power Consumption for 24 Days\")\n",
    "plt.ylabel('Values')\n",
    "plt.xlabel('Month');\n",
    "\n"
   ]
  },
  {
   "cell_type": "code",
   "execution_count": 11,
   "id": "c7cfbf6a",
   "metadata": {},
   "outputs": [
    {
     "data": {
      "image/png": "[encoded data removed]",
      "text/plain": [
       "<Figure size 432x288 with 1 Axes>"
      ]
     },
     "metadata": {
      "needs_background": "light"
     },
     "output_type": "display_data"
    }
   ],
   "source": [
    "hour1.plot.bar(x='hour1')\n",
    "plt.title(\"Sum of hours of Power Consumption\")\n",
    "plt.ylabel('Values')\n",
    "plt.xlabel('Date_Time');\n"
   ]
  },
  {
   "cell_type": "code",
   "execution_count": null,
   "id": "f294616d",
   "metadata": {},
   "outputs": [],
   "source": []
  }
 ],
 "metadata": {
  "kernelspec": {
   "display_name": "Python 3 (ipykernel)",
   "language": "python",
   "name": "python3"
  },
  "language_info": {
   "codemirror_mode": {
    "name": "ipython",
    "version": 3
   },
   "file_extension": ".py",
   "mimetype": "text/x-python",
   "name": "python",
   "nbconvert_exporter": "python",
   "pygments_lexer": "ipython3",
   "version": "3.9.7"
  }
 },
 "nbformat": 4,
 "nbformat_minor": 5
}
