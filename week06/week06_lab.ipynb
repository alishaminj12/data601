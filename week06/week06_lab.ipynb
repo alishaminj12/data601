{
 "cells": [
  {
   "cell_type": "markdown",
   "id": "142f4de1",
   "metadata": {
    "id": "v5Zi0hVzU34f"
   },
   "source": [
    "# Week6 Lab\n",
    "\n",
    "## Download & Extract Data\n",
    "\n",
    "Programmatically download the zip file & extract"
   ]
  },
  {
   "cell_type": "code",
   "execution_count": 1,
   "id": "366aa3f0",
   "metadata": {
    "colab": {
     "base_uri": "https://localhost:8080/"
    },
    "id": "sbIweVvCfHMU",
    "outputId": "5c1794ed-460b-46fe-e09b-675284a038a7",
    "scrolled": true
   },
   "outputs": [],
   "source": [
    "file_url = 'https://github.com/msaricaumbc/DS_data/blob/master/lab_data.zip?raw=true'\n"
   ]
  },
  {
   "cell_type": "code",
   "execution_count": 2,
   "id": "d47dc056",
   "metadata": {},
   "outputs": [],
   "source": [
    "from zipfile import ZipFile\n",
    "import seaborn as sns\n",
    "import pandas as pd"
   ]
  },
  {
   "cell_type": "code",
   "execution_count": 3,
   "id": "6133bb8d",
   "metadata": {},
   "outputs": [],
   "source": [
    "from urllib import request\n",
    "\n",
    "def download_file(file_name, url):\n",
    "    res = request.urlopen(url)\n",
    "    with open(file_name,'wb') as file:\n",
    "        file.write(res.read())\n"
   ]
  },
  {
   "cell_type": "code",
   "execution_count": 4,
   "id": "fda1caac",
   "metadata": {},
   "outputs": [],
   "source": [
    "file_url = 'https://github.com/msaricaumbc/DS_data/blob/master/lab_data.zip?raw=true'\n",
    "file_name = 'lab_data.zip'\n",
    "\n",
    "download_file(file_name, file_url)"
   ]
  },
  {
   "cell_type": "code",
   "execution_count": 5,
   "id": "ed31cf7d",
   "metadata": {},
   "outputs": [],
   "source": [
    "def unzip(file_name, path='./'):\n",
    "    # opening the zip file in READ mode \n",
    "    with ZipFile(file_name, 'r') as zip: \n",
    "        # printing all the contents of the zip file \n",
    "        zip.printdir() \n",
    "\n",
    "        # extracting all the files \n",
    "        print('Extracting all the files now...') \n",
    "        zip.extractall(path = path) \n",
    "        print('Done!') "
   ]
  },
  {
   "cell_type": "code",
   "execution_count": 6,
   "id": "a3b0dad3",
   "metadata": {},
   "outputs": [
    {
     "name": "stdout",
     "output_type": "stream",
     "text": [
      "File Name                                             Modified             Size\n",
      "PoliceShootingsUS.csv                          2021-09-21 20:53:54       227653\n",
      "__MACOSX/._PoliceShootingsUS.csv               2021-09-21 20:53:54          276\n",
      "volunteers.txt                                 2021-10-06 00:32:28         7015\n",
      "__MACOSX/._volunteers.txt                      2021-10-06 00:32:28          176\n",
      "Extracting all the files now...\n",
      "Done!\n"
     ]
    }
   ],
   "source": [
    "unzip(file_name)"
   ]
  },
  {
   "cell_type": "markdown",
   "id": "3b50c890",
   "metadata": {
    "id": "_kjkZyypfdLD"
   },
   "source": [
    "## Reading data from a csv file"
   ]
  },
  {
   "cell_type": "markdown",
   "id": "eb1e93f2",
   "metadata": {
    "id": "RgyCSGYBgCK0"
   },
   "source": [
    "For the file `PoliceShootingsUS.csv`, please answer the following questions:\n",
    "\n",
    "* How many offenders are older than 55? "
   ]
  },
  {
   "cell_type": "code",
   "execution_count": 7,
   "id": "e21fef0f",
   "metadata": {
    "scrolled": true
   },
   "outputs": [],
   "source": [
    "Police=pd.read_csv(r\"C:\\Users\\HP\\OneDrive\\Documents\\GitHub\\data601\\week06\\PoliceShootingsUS.csv\",encoding='cp1252')"
   ]
  },
  {
   "cell_type": "code",
   "execution_count": 8,
   "id": "7e3eb9a3",
   "metadata": {
    "scrolled": true
   },
   "outputs": [
    {
     "data": {
      "text/html": [
       "<div>\n",
       "<style scoped>\n",
       "    .dataframe tbody tr th:only-of-type {\n",
       "        vertical-align: middle;\n",
       "    }\n",
       "\n",
       "    .dataframe tbody tr th {\n",
       "        vertical-align: top;\n",
       "    }\n",
       "\n",
       "    .dataframe thead th {\n",
       "        text-align: right;\n",
       "    }\n",
       "</style>\n",
       "<table border=\"1\" class=\"dataframe\">\n",
       "  <thead>\n",
       "    <tr style=\"text-align: right;\">\n",
       "      <th></th>\n",
       "      <th>id</th>\n",
       "      <th>age</th>\n",
       "    </tr>\n",
       "  </thead>\n",
       "  <tbody>\n",
       "    <tr>\n",
       "      <th>count</th>\n",
       "      <td>2535.000000</td>\n",
       "      <td>2458.000000</td>\n",
       "    </tr>\n",
       "    <tr>\n",
       "      <th>mean</th>\n",
       "      <td>1445.731755</td>\n",
       "      <td>36.605370</td>\n",
       "    </tr>\n",
       "    <tr>\n",
       "      <th>std</th>\n",
       "      <td>794.259490</td>\n",
       "      <td>13.030774</td>\n",
       "    </tr>\n",
       "    <tr>\n",
       "      <th>min</th>\n",
       "      <td>3.000000</td>\n",
       "      <td>6.000000</td>\n",
       "    </tr>\n",
       "    <tr>\n",
       "      <th>25%</th>\n",
       "      <td>768.500000</td>\n",
       "      <td>26.000000</td>\n",
       "    </tr>\n",
       "    <tr>\n",
       "      <th>50%</th>\n",
       "      <td>1453.000000</td>\n",
       "      <td>34.000000</td>\n",
       "    </tr>\n",
       "    <tr>\n",
       "      <th>75%</th>\n",
       "      <td>2126.500000</td>\n",
       "      <td>45.000000</td>\n",
       "    </tr>\n",
       "    <tr>\n",
       "      <th>max</th>\n",
       "      <td>2822.000000</td>\n",
       "      <td>91.000000</td>\n",
       "    </tr>\n",
       "  </tbody>\n",
       "</table>\n",
       "</div>"
      ],
      "text/plain": [
       "                id          age\n",
       "count  2535.000000  2458.000000\n",
       "mean   1445.731755    36.605370\n",
       "std     794.259490    13.030774\n",
       "min       3.000000     6.000000\n",
       "25%     768.500000    26.000000\n",
       "50%    1453.000000    34.000000\n",
       "75%    2126.500000    45.000000\n",
       "max    2822.000000    91.000000"
      ]
     },
     "execution_count": 8,
     "metadata": {},
     "output_type": "execute_result"
    }
   ],
   "source": [
    "Police.describe()"
   ]
  },
  {
   "cell_type": "code",
   "execution_count": 9,
   "id": "15da79ba",
   "metadata": {},
   "outputs": [
    {
     "name": "stdout",
     "output_type": "stream",
     "text": [
      "<class 'pandas.core.frame.DataFrame'>\n",
      "RangeIndex: 2535 entries, 0 to 2534\n",
      "Data columns (total 14 columns):\n",
      " #   Column                   Non-Null Count  Dtype  \n",
      "---  ------                   --------------  -----  \n",
      " 0   id                       2535 non-null   int64  \n",
      " 1   name                     2535 non-null   object \n",
      " 2   date                     2535 non-null   object \n",
      " 3   manner_of_death          2535 non-null   object \n",
      " 4   armed                    2526 non-null   object \n",
      " 5   age                      2458 non-null   float64\n",
      " 6   gender                   2535 non-null   object \n",
      " 7   race                     2340 non-null   object \n",
      " 8   city                     2535 non-null   object \n",
      " 9   state                    2535 non-null   object \n",
      " 10  signs_of_mental_illness  2535 non-null   bool   \n",
      " 11  threat_level             2535 non-null   object \n",
      " 12  flee                     2470 non-null   object \n",
      " 13  body_camera              2535 non-null   bool   \n",
      "dtypes: bool(2), float64(1), int64(1), object(10)\n",
      "memory usage: 242.7+ KB\n"
     ]
    }
   ],
   "source": [
    "Police.info()"
   ]
  },
  {
   "cell_type": "code",
   "execution_count": 10,
   "id": "d85b66bb",
   "metadata": {},
   "outputs": [
    {
     "data": {
      "text/html": [
       "<div>\n",
       "<style scoped>\n",
       "    .dataframe tbody tr th:only-of-type {\n",
       "        vertical-align: middle;\n",
       "    }\n",
       "\n",
       "    .dataframe tbody tr th {\n",
       "        vertical-align: top;\n",
       "    }\n",
       "\n",
       "    .dataframe thead th {\n",
       "        text-align: right;\n",
       "    }\n",
       "</style>\n",
       "<table border=\"1\" class=\"dataframe\">\n",
       "  <thead>\n",
       "    <tr style=\"text-align: right;\">\n",
       "      <th></th>\n",
       "      <th>id</th>\n",
       "      <th>name</th>\n",
       "      <th>date</th>\n",
       "      <th>manner_of_death</th>\n",
       "      <th>armed</th>\n",
       "      <th>age</th>\n",
       "      <th>gender</th>\n",
       "      <th>race</th>\n",
       "      <th>city</th>\n",
       "      <th>state</th>\n",
       "      <th>signs_of_mental_illness</th>\n",
       "      <th>threat_level</th>\n",
       "      <th>flee</th>\n",
       "      <th>body_camera</th>\n",
       "    </tr>\n",
       "  </thead>\n",
       "  <tbody>\n",
       "    <tr>\n",
       "      <th>0</th>\n",
       "      <td>3</td>\n",
       "      <td>Tim Elliot</td>\n",
       "      <td>02/01/15</td>\n",
       "      <td>shot</td>\n",
       "      <td>gun</td>\n",
       "      <td>53.0</td>\n",
       "      <td>M</td>\n",
       "      <td>A</td>\n",
       "      <td>Shelton</td>\n",
       "      <td>WA</td>\n",
       "      <td>True</td>\n",
       "      <td>attack</td>\n",
       "      <td>Not fleeing</td>\n",
       "      <td>False</td>\n",
       "    </tr>\n",
       "    <tr>\n",
       "      <th>1</th>\n",
       "      <td>4</td>\n",
       "      <td>Lewis Lee Lembke</td>\n",
       "      <td>02/01/15</td>\n",
       "      <td>shot</td>\n",
       "      <td>gun</td>\n",
       "      <td>47.0</td>\n",
       "      <td>M</td>\n",
       "      <td>W</td>\n",
       "      <td>Aloha</td>\n",
       "      <td>OR</td>\n",
       "      <td>False</td>\n",
       "      <td>attack</td>\n",
       "      <td>Not fleeing</td>\n",
       "      <td>False</td>\n",
       "    </tr>\n",
       "    <tr>\n",
       "      <th>2</th>\n",
       "      <td>5</td>\n",
       "      <td>John Paul Quintero</td>\n",
       "      <td>03/01/15</td>\n",
       "      <td>shot and Tasered</td>\n",
       "      <td>unarmed</td>\n",
       "      <td>23.0</td>\n",
       "      <td>M</td>\n",
       "      <td>H</td>\n",
       "      <td>Wichita</td>\n",
       "      <td>KS</td>\n",
       "      <td>False</td>\n",
       "      <td>other</td>\n",
       "      <td>Not fleeing</td>\n",
       "      <td>False</td>\n",
       "    </tr>\n",
       "    <tr>\n",
       "      <th>3</th>\n",
       "      <td>8</td>\n",
       "      <td>Matthew Hoffman</td>\n",
       "      <td>04/01/15</td>\n",
       "      <td>shot</td>\n",
       "      <td>toy weapon</td>\n",
       "      <td>32.0</td>\n",
       "      <td>M</td>\n",
       "      <td>W</td>\n",
       "      <td>San Francisco</td>\n",
       "      <td>CA</td>\n",
       "      <td>True</td>\n",
       "      <td>attack</td>\n",
       "      <td>Not fleeing</td>\n",
       "      <td>False</td>\n",
       "    </tr>\n",
       "    <tr>\n",
       "      <th>4</th>\n",
       "      <td>9</td>\n",
       "      <td>Michael Rodriguez</td>\n",
       "      <td>04/01/15</td>\n",
       "      <td>shot</td>\n",
       "      <td>nail gun</td>\n",
       "      <td>39.0</td>\n",
       "      <td>M</td>\n",
       "      <td>H</td>\n",
       "      <td>Evans</td>\n",
       "      <td>CO</td>\n",
       "      <td>False</td>\n",
       "      <td>attack</td>\n",
       "      <td>Not fleeing</td>\n",
       "      <td>False</td>\n",
       "    </tr>\n",
       "  </tbody>\n",
       "</table>\n",
       "</div>"
      ],
      "text/plain": [
       "   id                name      date   manner_of_death       armed   age  \\\n",
       "0   3          Tim Elliot  02/01/15              shot         gun  53.0   \n",
       "1   4    Lewis Lee Lembke  02/01/15              shot         gun  47.0   \n",
       "2   5  John Paul Quintero  03/01/15  shot and Tasered     unarmed  23.0   \n",
       "3   8     Matthew Hoffman  04/01/15              shot  toy weapon  32.0   \n",
       "4   9   Michael Rodriguez  04/01/15              shot    nail gun  39.0   \n",
       "\n",
       "  gender race           city state  signs_of_mental_illness threat_level  \\\n",
       "0      M    A        Shelton    WA                     True       attack   \n",
       "1      M    W          Aloha    OR                    False       attack   \n",
       "2      M    H        Wichita    KS                    False        other   \n",
       "3      M    W  San Francisco    CA                     True       attack   \n",
       "4      M    H          Evans    CO                    False       attack   \n",
       "\n",
       "          flee  body_camera  \n",
       "0  Not fleeing        False  \n",
       "1  Not fleeing        False  \n",
       "2  Not fleeing        False  \n",
       "3  Not fleeing        False  \n",
       "4  Not fleeing        False  "
      ]
     },
     "execution_count": 10,
     "metadata": {},
     "output_type": "execute_result"
    }
   ],
   "source": [
    "Police.head()"
   ]
  },
  {
   "cell_type": "code",
   "execution_count": 11,
   "id": "709960bb",
   "metadata": {},
   "outputs": [
    {
     "data": {
      "text/plain": [
       "array([53., 47., 23., 32., 39., 18., 22., 35., 34., 25., 31., 41., 30.,\n",
       "       37., 28., 42., 36., 49., 71., 33., 29., 43., 24., 75., 68., 27.,\n",
       "       48., 21., 67., 19., 54., 17., 61., 56., 40., 45., 26., 59., 38.,\n",
       "       51., 74., 57., 46., 16., 50., 20., nan, 77., 58., 64., 52., 63.,\n",
       "       44., 60., 66., 83., 72., 76., 62., 55., 69., 86., 15., 65.,  6.,\n",
       "       12., 70., 80., 14., 82., 13., 73., 91., 79.])"
      ]
     },
     "execution_count": 11,
     "metadata": {},
     "output_type": "execute_result"
    }
   ],
   "source": [
    "Police.age.unique()"
   ]
  },
  {
   "cell_type": "code",
   "execution_count": 12,
   "id": "490f93e7",
   "metadata": {},
   "outputs": [
    {
     "name": "stdout",
     "output_type": "stream",
     "text": [
      "235\n"
     ]
    }
   ],
   "source": [
    "df=pd.DataFrame(Police)\n",
    "\n",
    "i = 0\n",
    "for age in Police[\"age\"]:\n",
    "    if age > 55.0:\n",
    "        i += 1\n",
    "print(i)\n",
    "           \n",
    "        \n"
   ]
  },
  {
   "cell_type": "code",
   "execution_count": 13,
   "id": "5920ebb8",
   "metadata": {},
   "outputs": [
    {
     "data": {
      "text/plain": [
       "(2535, 14)"
      ]
     },
     "execution_count": 13,
     "metadata": {},
     "output_type": "execute_result"
    }
   ],
   "source": [
    "Police.shape"
   ]
  },
  {
   "cell_type": "markdown",
   "id": "02305a57",
   "metadata": {},
   "source": [
    "* What's the age distribution?"
   ]
  },
  {
   "cell_type": "code",
   "execution_count": 14,
   "id": "ef63fbad",
   "metadata": {},
   "outputs": [
    {
     "data": {
      "text/plain": [
       "<seaborn.axisgrid.FacetGrid at 0x10f5dc4f4f0>"
      ]
     },
     "execution_count": 14,
     "metadata": {},
     "output_type": "execute_result"
    },
    {
     "data": {
      "image/png": "[encoded data removed]",
      "text/plain": [
       "<Figure size 720x360 with 1 Axes>"
      ]
     },
     "metadata": {
      "needs_background": "light"
     },
     "output_type": "display_data"
    }
   ],
   "source": [
    "sns.displot(Police, x='age', kind='hist', aspect=2)"
   ]
  },
  {
   "cell_type": "code",
   "execution_count": 15,
   "id": "d2820c5b",
   "metadata": {},
   "outputs": [
    {
     "data": {
      "text/plain": [
       "<seaborn.axisgrid.FacetGrid at 0x10f5e39aee0>"
      ]
     },
     "execution_count": 15,
     "metadata": {},
     "output_type": "execute_result"
    },
    {
     "data": {
      "image/png": "[encoded data removed]",
      "text/plain": [
       "<Figure size 720x360 with 1 Axes>"
      ]
     },
     "metadata": {
      "needs_background": "light"
     },
     "output_type": "display_data"
    }
   ],
   "source": [
    "sns.displot(Police, x='age', kind='kde', aspect=2)"
   ]
  },
  {
   "cell_type": "markdown",
   "id": "fea7d570",
   "metadata": {},
   "source": [
    "## Dirty data\n",
    "\n",
    "Read `volunteers.txt` file and perform the following action:\n",
    "\n",
    "* Create a dataframe with columns: Name, Lastname, State"
   ]
  },
  {
   "cell_type": "code",
   "execution_count": 16,
   "id": "8c0f7665",
   "metadata": {},
   "outputs": [
    {
     "name": "stdout",
     "output_type": "stream",
     "text": [
      "\"log\"[Harding, Christine] (Virginia) - Universal human-resource flexibility\n",
      "\"log\"[Davis, Kimberly] (New York) - Compatible demand-driven hub\n",
      "\"log\"[Ingram, Rachel] (Louisiana) - Versatile multimedia website\n",
      "\"log\"[Walker, Richard] (Oregon) - Networked eco-centric approach\n",
      "\"log\"[Barnes, Francisco] (Virginia) - Persistent systematic moratorium\n",
      "\"log\"[Perez, Rachel] (Alaska) - Optimized national portal\n",
      "\"log\"[Choi, Linda] (Iowa) - Operative discrete Internet solution\n",
      "\"log\"[Gomez, Janice] (Vermont) - Managed national attitude\n",
      "\"log\"[Lloyd, Jesus] (Connecticut) - Adaptive systematic definition\n",
      "\"log\"[Moore, Alicia] (Michigan) - Innovative motivating support\n",
      "\"log\"[Murray, Pamela] (Arizona) - Diverse systematic policy\n",
      "\"log\"[Moore, Brittney] (Washington) - Progressive web-enabled synergy\n",
      "\"log\"[Jones, Alexander] (Arizona) - Advanced 24/7 data-warehouse\n",
      "\"log\"[Morales, David] (Florida) - Streamlined eco-centric conglomeration\n",
      "\"log\"[Hogan, Elizabeth] (Rhode Island) - Re-engineered demand-driven groupware\n",
      "\"log\"[Floyd, Courtney] (Pennsylvania) - Cloned real-time collaboration\n",
      "\"log\"[Scott, Mark] (West Virginia) - Grass-roots impactful firmware\n",
      "\"log\"[Johnson, Philip] (North Carolina) - Right-sized motivating function\n",
      "\"log\"[Taylor, Michael] (New Hampshire) - Streamlined bifurcated toolset\n",
      "\"log\"[Freeman, Barbara] (Pennsylvania) - Re-engineered radical initiative\n",
      "\"log\"[Humphrey, Shawn] (Oklahoma) - Reactive bi-directional array\n",
      "\"log\"[Schultz, Ernest] (South Carolina) - Re-contextualized stable protocol\n",
      "\"log\"[Harper, Alexander] (Mississippi) - Reactive system-worthy database\n",
      "\"log\"[Shaw, Kendra] (Nebraska) - Stand-alone regional knowledgebase\n",
      "\"log\"[Glenn, Samantha] (Louisiana) - Ergonomic mission-critical intranet\n",
      "\"log\"[Jackson, Kara] (Wyoming) - Team-oriented value-added extranet\n",
      "\"log\"[Rivera, Vickie] (North Carolina) - Cloned real-time customer loyalty\n",
      "\"log\"[Robinson, Matthew] (Iowa) - Organic next generation neural-net\n",
      "\"log\"[Taylor, Nicole] (Kansas) - Vision-oriented methodical project\n",
      "\"log\"[Harper, Eric] (South Dakota) - User-friendly modular productivity\n",
      "\"log\"[Smith, Karen] (Oklahoma) - Seamless user-facing complexity\n",
      "\"log\"[Chavez, Donald] (Nebraska) - Customer-focused hybrid capacity\n",
      "\"log\"[Thompson, Sarah] (Ohio) - Ergonomic coherent support\n",
      "\"log\"[Gibson, Veronica] (Vermont) - Devolved attitude-oriented info-mediaries\n",
      "\"log\"[Taylor, Steven] (Montana) - Visionary 6thgeneration productivity\n",
      "\"log\"[Mitchell, Alexandra] (North Carolina) - Realigned asymmetric encryption\n",
      "\"log\"[Simmons, Nicole] (Texas) - Secured homogeneous instruction set\n",
      "\"log\"[Ramirez, Riley] (South Dakota) - Managed modular functionalities\n",
      "\"log\"[Lopez, Kenneth] (Colorado) - Managed multi-state capability\n",
      "\"log\"[Rose, Jeffery] (Kentucky) - Digitized multi-tasking success\n",
      "\"log\"[Brown, Nichole] (Wisconsin) - Fully-configurable multimedia frame\n",
      "\"log\"[Zimmerman, Mary] (South Carolina) - Business-focused grid-enabled interface\n",
      "\"log\"[Martinez, Andrew] (Massachusetts) - Streamlined directional project\n",
      "\"log\"[Mack, Richard] (Tennessee) - Multi-layered 4thgeneration complexity\n",
      "\"log\"[Harris, Emily] (Tennessee) - Re-contextualized national software\n",
      "\"log\"[Foster, Abigail] (Tennessee) - Cross-group national website\n",
      "\"log\"[Hines, Michael] (Alaska) - Horizontal secondary alliance\n",
      "\"log\"[Fields, Jennifer] (Alabama) - Synergistic cohesive capacity\n",
      "\"log\"[Austin, Roberto] (Oklahoma) - Grass-roots holistic initiative\n",
      "\"log\"[Choi, Kimberly] (Maryland) - User-centric 6thgeneration policy\n",
      "\"log\"[Jacobs, Susan] (West Virginia) - Business-focused bottom-line utilization\n",
      "\"log\"[Morales, Rita] (Nevada) - Team-oriented holistic implementation\n",
      "\"log\"[Morales, Matthew] (Pennsylvania) - Progressive multi-state help-desk\n",
      "\"log\"[Payne, Trevor] (Wyoming) - Organic motivating installation\n",
      "\"log\"[Harmon, Melissa] (Michigan) - Organized 4thgeneration policy\n",
      "\"log\"[Hooper, Paul] (South Dakota) - Switchable composite alliance\n",
      "\"log\"[Henry, Robert] (Colorado) - Function-based contextually-based framework\n",
      "\"log\"[Bell, Connor] (Pennsylvania) - Pre-emptive neutral data-warehouse\n",
      "\"log\"[Mercado, Charles] (Arkansas) - Operative directional strategy\n",
      "\"log\"[Nelson, Ashley] (Tennessee) - Digitized multi-tasking forecast\n",
      "\"log\"[Lewis, Paul] (New York) - Programmable hybrid matrices\n",
      "\"log\"[Tanner, Ashley] (Nebraska) - Secured static synergy\n",
      "\"log\"[Zavala, Jeffery] (North Dakota) - Business-focused 24/7 installation\n",
      "\"log\"[Taylor, Kevin] (Washington) - Business-focused multi-state leverage\n",
      "\"log\"[Diaz, Michelle] (Oklahoma) - Seamless 4thgeneration collaboration\n",
      "\"log\"[Peterson, Shelly] (New Mexico) - Total radical functionalities\n",
      "\"log\"[Johnson, Robin] (Iowa) - Intuitive foreground process improvement\n",
      "\"log\"[Daniel, Helen] (Montana) - Programmable holistic interface\n",
      "\"log\"[Bartlett, Vanessa] (New York) - Diverse multimedia workforce\n",
      "\"log\"[Orozco, Emily] (Vermont) - Open-architected incremental toolset\n",
      "\"log\"[Bailey, Joseph] (Rhode Island) - Profit-focused zero administration open architecture\n",
      "\"log\"[Hardin, Monica] (Alaska) - Synergistic optimal moratorium\n",
      "\"log\"[Hartman, Jorge] (Minnesota) - User-centric next generation budgetary management\n",
      "\"log\"[Camacho, Jennifer] (New Jersey) - Seamless transitional open system\n",
      "\"log\"[Hardy, Amber] (Vermont) - Upgradable content-based secured line\n",
      "\"log\"[Ward, Tyler] (Pennsylvania) - Secured regional knowledge user\n",
      "\"log\"[Jenkins, Ruben] (Vermont) - Fully-configurable multi-state installation\n",
      "\"log\"[Greene, Larry] (South Dakota) - Quality-focused maximized strategy\n",
      "\"log\"[Wyatt, James] (Wisconsin) - Multi-lateral eco-centric hierarchy\n",
      "\"log\"[Leblanc, Travis] (Oregon) - Quality-focused fresh-thinking monitoring\n",
      "\"log\"[Rogers, Teresa] (Wyoming) - Switchable encompassing leverage\n",
      "\"log\"[Conley, Scott] (Michigan) - Mandatory impactful functionalities\n",
      "\"log\"[Murray, Patricia] (Hawaii) - Front-line neutral process improvement\n",
      "\"log\"[Matthews, Amber] (Massachusetts) - Multi-tiered needs-based system engine\n",
      "\"log\"[Munoz, Jessica] (Kansas) - Inverse 4thgeneration application\n",
      "\"log\"[Ball, Andrea] (Washington) - Managed user-facing forecast\n",
      "\"log\"[Wagner, Sydney] (New York) - Managed client-server algorithm\n",
      "\"log\"[Hebert, Stephanie] (Minnesota) - Networked attitude-oriented capability\n",
      "\"log\"[Harrington, Joseph] (South Dakota) - Balanced actuating protocol\n",
      "\"log\"[Jackson, David] (North Dakota) - Compatible scalable matrices\n",
      "\"log\"[Jones, Natalie] (Michigan) - Focused systemic hierarchy\n",
      "\"log\"[Thornton, Seth] (Iowa) - Innovative content-based forecast\n",
      "\"log\"[Nelson, Steven] (Wisconsin) - User-centric attitude-oriented flexibility\n",
      "\"log\"[Green, Robert] (Kansas) - Synchronized 4thgeneration focus group\n",
      "\"log\"[Blair, Crystal] (Kansas) - Triple-buffered radical capability\n",
      "\"log\"[Smith, Kevin] (North Dakota) - Seamless discrete time-frame\n",
      "\"log\"[Moore, Mark] (Alaska) - Team-oriented actuating capacity\n",
      "\"log\"[Landry, Jennifer] (Wyoming) - User-centric object-oriented neural-net\n",
      "\"log\"[Phillips, Lori] (Arkansas) - Sharable content-based parallelism\n",
      "\"log\"[Davis, Tiffany] (Mississippi) - Focused asynchronous process improvement\n",
      "\n"
     ]
    }
   ],
   "source": [
    "## Your code is here\n",
    "with open('volunteers.txt','r') as text_file:\n",
    "    content = text_file.read()\n",
    "    print(content)\n",
    "    "
   ]
  },
  {
   "cell_type": "code",
   "execution_count": 17,
   "id": "81240247",
   "metadata": {},
   "outputs": [],
   "source": [
    "names = []\n",
    "lastnames = []\n",
    "states = []\n",
    "\n",
    "with open('volunteers.txt', 'r') as my_file:\n",
    "    \n",
    "    lines = my_file.readlines()\n",
    "    for line in lines:\n",
    "        line = line \\\n",
    "                .replace('\"' , ',') \\\n",
    "                .replace(\"[\", \",\") \\\n",
    "                .replace(\"]\", \",\") \\\n",
    "                .replace(\"(\" , \" \") \\\n",
    "                .replace(\")\" , \" \") \\\n",
    "                .replace(\" - \", \",\")\n",
    "        parts = line.split(',')\n",
    "        lastname = parts[3].strip()\n",
    "        name = parts[4].strip()\n",
    "        state = parts[5].strip()\n",
    "        names.append(name)\n",
    "        lastnames.append(lastname)\n",
    "        states.append(state)\n",
    "        \n",
    "    "
   ]
  },
  {
   "cell_type": "code",
   "execution_count": 18,
   "id": "e954cdcd",
   "metadata": {},
   "outputs": [
    {
     "data": {
      "text/html": [
       "<div>\n",
       "<style scoped>\n",
       "    .dataframe tbody tr th:only-of-type {\n",
       "        vertical-align: middle;\n",
       "    }\n",
       "\n",
       "    .dataframe tbody tr th {\n",
       "        vertical-align: top;\n",
       "    }\n",
       "\n",
       "    .dataframe thead th {\n",
       "        text-align: right;\n",
       "    }\n",
       "</style>\n",
       "<table border=\"1\" class=\"dataframe\">\n",
       "  <thead>\n",
       "    <tr style=\"text-align: right;\">\n",
       "      <th></th>\n",
       "      <th>Name</th>\n",
       "      <th>Lastname</th>\n",
       "      <th>State</th>\n",
       "    </tr>\n",
       "  </thead>\n",
       "  <tbody>\n",
       "    <tr>\n",
       "      <th>0</th>\n",
       "      <td>Christine</td>\n",
       "      <td>Harding</td>\n",
       "      <td>Virginia</td>\n",
       "    </tr>\n",
       "    <tr>\n",
       "      <th>1</th>\n",
       "      <td>Kimberly</td>\n",
       "      <td>Davis</td>\n",
       "      <td>New York</td>\n",
       "    </tr>\n",
       "    <tr>\n",
       "      <th>2</th>\n",
       "      <td>Rachel</td>\n",
       "      <td>Ingram</td>\n",
       "      <td>Louisiana</td>\n",
       "    </tr>\n",
       "    <tr>\n",
       "      <th>3</th>\n",
       "      <td>Richard</td>\n",
       "      <td>Walker</td>\n",
       "      <td>Oregon</td>\n",
       "    </tr>\n",
       "    <tr>\n",
       "      <th>4</th>\n",
       "      <td>Francisco</td>\n",
       "      <td>Barnes</td>\n",
       "      <td>Virginia</td>\n",
       "    </tr>\n",
       "    <tr>\n",
       "      <th>...</th>\n",
       "      <td>...</td>\n",
       "      <td>...</td>\n",
       "      <td>...</td>\n",
       "    </tr>\n",
       "    <tr>\n",
       "      <th>95</th>\n",
       "      <td>Kevin</td>\n",
       "      <td>Smith</td>\n",
       "      <td>North Dakota</td>\n",
       "    </tr>\n",
       "    <tr>\n",
       "      <th>96</th>\n",
       "      <td>Mark</td>\n",
       "      <td>Moore</td>\n",
       "      <td>Alaska</td>\n",
       "    </tr>\n",
       "    <tr>\n",
       "      <th>97</th>\n",
       "      <td>Jennifer</td>\n",
       "      <td>Landry</td>\n",
       "      <td>Wyoming</td>\n",
       "    </tr>\n",
       "    <tr>\n",
       "      <th>98</th>\n",
       "      <td>Lori</td>\n",
       "      <td>Phillips</td>\n",
       "      <td>Arkansas</td>\n",
       "    </tr>\n",
       "    <tr>\n",
       "      <th>99</th>\n",
       "      <td>Tiffany</td>\n",
       "      <td>Davis</td>\n",
       "      <td>Mississippi</td>\n",
       "    </tr>\n",
       "  </tbody>\n",
       "</table>\n",
       "<p>100 rows × 3 columns</p>\n",
       "</div>"
      ],
      "text/plain": [
       "         Name  Lastname         State\n",
       "0   Christine   Harding      Virginia\n",
       "1    Kimberly     Davis      New York\n",
       "2      Rachel    Ingram     Louisiana\n",
       "3     Richard    Walker        Oregon\n",
       "4   Francisco    Barnes      Virginia\n",
       "..        ...       ...           ...\n",
       "95      Kevin     Smith  North Dakota\n",
       "96       Mark     Moore        Alaska\n",
       "97   Jennifer    Landry       Wyoming\n",
       "98       Lori  Phillips      Arkansas\n",
       "99    Tiffany     Davis   Mississippi\n",
       "\n",
       "[100 rows x 3 columns]"
      ]
     },
     "execution_count": 18,
     "metadata": {},
     "output_type": "execute_result"
    }
   ],
   "source": [
    "df=pd.DataFrame()\n",
    "df['Name']=names\n",
    "df['Lastname']=lastnames\n",
    "df['State']=states\n",
    "df"
   ]
  },
  {
   "cell_type": "code",
   "execution_count": null,
   "id": "f1a2b94d",
   "metadata": {},
   "outputs": [],
   "source": []
  }
 ],
 "metadata": {
  "kernelspec": {
   "display_name": "Python 3 (ipykernel)",
   "language": "python",
   "name": "python3"
  },
  "language_info": {
   "codemirror_mode": {
    "name": "ipython",
    "version": 3
   },
   "file_extension": ".py",
   "mimetype": "text/x-python",
   "name": "python",
   "nbconvert_exporter": "python",
   "pygments_lexer": "ipython3",
   "version": "3.9.7"
  },
  "toc": {
   "base_numbering": 1,
   "nav_menu": {},
   "number_sections": false,
   "sideBar": true,
   "skip_h1_title": false,
   "title_cell": "Table of Contents",
   "title_sidebar": "Contents",
   "toc_cell": false,
   "toc_position": {
    "height": "calc(100% - 180px)",
    "left": "10px",
    "top": "150px",
    "width": "261.818px"
   },
   "toc_section_display": true,
   "toc_window_display": true
  }
 },
 "nbformat": 4,
 "nbformat_minor": 5
}
