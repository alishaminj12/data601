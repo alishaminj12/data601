{
 "cells": [
  {
   "cell_type": "markdown",
   "id": "142f4de1",
   "metadata": {
    "id": "v5Zi0hVzU34f"
   },
   "source": [
    "# Week6 Lab\n",
    "\n",
    "## Download & Extract Data\n",
    "\n",
    "Programmatically download the zip file & extract"
   ]
  },
  {
   "cell_type": "code",
   "execution_count": 29,
   "id": "366aa3f0",
   "metadata": {
    "colab": {
     "base_uri": "https://localhost:8080/"
    },
    "id": "sbIweVvCfHMU",
    "outputId": "5c1794ed-460b-46fe-e09b-675284a038a7",
    "scrolled": true
   },
   "outputs": [],
   "source": [
    "file_url = 'https://github.com/msaricaumbc/DS_data/blob/master/lab_data.zip?raw=true'\n"
   ]
  },
  {
   "cell_type": "raw",
   "id": "8631fd44",
   "metadata": {},
   "source": []
  },
  {
   "cell_type": "markdown",
   "id": "3b50c890",
   "metadata": {
    "id": "_kjkZyypfdLD"
   },
   "source": [
    "## Reading data from a csv file"
   ]
  },
  {
   "cell_type": "markdown",
   "id": "eb1e93f2",
   "metadata": {
    "id": "RgyCSGYBgCK0"
   },
   "source": [
    "For the file `PoliceShootingsUS.csv`, please answer the following questions:\n",
    "\n",
    "* How many offenders are older than 55? "
   ]
  },
  {
   "cell_type": "code",
   "execution_count": 30,
   "id": "e0f126d3",
   "metadata": {},
   "outputs": [],
   "source": [
    "from zipfile import ZipFile"
   ]
  },
  {
   "cell_type": "code",
   "execution_count": 34,
   "id": "b5c3c8de",
   "metadata": {},
   "outputs": [],
   "source": [
    "from urllib import request\n",
    "\n",
    "def download_file(file_name, url):\n",
    "    res = request.urlopen(url)\n",
    "    with open(file_name,'wb') as file:\n",
    "        file.write(res.read())\n",
    "\n"
   ]
  },
  {
   "cell_type": "code",
   "execution_count": 36,
   "id": "5d309e44",
   "metadata": {},
   "outputs": [],
   "source": [
    "file_url = 'https://github.com/msaricaumbc/DS_data/blob/master/lab_data.zip?raw=true'\n",
    "file_name = 'lab_data.zip'\n",
    "\n",
    "download_file(file_name, file_url)"
   ]
  },
  {
   "cell_type": "code",
   "execution_count": 37,
   "id": "57cf8563",
   "metadata": {},
   "outputs": [],
   "source": [
    "def unzip(file_name, path='./'):\n",
    "    # opening the zip file in READ mode \n",
    "    with ZipFile(file_name, 'r') as zip: \n",
    "        # printing all the contents of the zip file \n",
    "        zip.printdir() \n",
    "\n",
    "        # extracting all the files \n",
    "        print('Extracting all the files now...') \n",
    "        zip.extractall(path = path) \n",
    "        print('Done!') "
   ]
  },
  {
   "cell_type": "code",
   "execution_count": 38,
   "id": "219f2ff7",
   "metadata": {},
   "outputs": [
    {
     "name": "stdout",
     "output_type": "stream",
     "text": [
      "File Name                                             Modified             Size\n",
      "PoliceShootingsUS.csv                          2021-09-21 20:53:54       227653\n",
      "__MACOSX/._PoliceShootingsUS.csv               2021-09-21 20:53:54          276\n",
      "volunteers.txt                                 2021-10-06 00:32:28         7015\n",
      "__MACOSX/._volunteers.txt                      2021-10-06 00:32:28          176\n",
      "Extracting all the files now...\n",
      "Done!\n"
     ]
    }
   ],
   "source": [
    "unzip(file_name)"
   ]
  },
  {
   "cell_type": "code",
   "execution_count": 16,
   "id": "ef178b40",
   "metadata": {},
   "outputs": [],
   "source": []
  },
  {
   "cell_type": "code",
   "execution_count": null,
   "id": "e21fef0f",
   "metadata": {},
   "outputs": [],
   "source": []
  },
  {
   "cell_type": "code",
   "execution_count": null,
   "id": "7e3eb9a3",
   "metadata": {},
   "outputs": [],
   "source": []
  },
  {
   "cell_type": "code",
   "execution_count": null,
   "id": "15da79ba",
   "metadata": {},
   "outputs": [],
   "source": []
  },
  {
   "cell_type": "code",
   "execution_count": null,
   "id": "d85b66bb",
   "metadata": {},
   "outputs": [],
   "source": []
  },
  {
   "cell_type": "code",
   "execution_count": 10,
   "id": "367088e5",
   "metadata": {
    "id": "v7tImBaOgNwo"
   },
   "outputs": [],
   "source": [
    "## Your code is here\n"
   ]
  },
  {
   "cell_type": "markdown",
   "id": "02305a57",
   "metadata": {},
   "source": [
    "* What's the age distribution?"
   ]
  },
  {
   "cell_type": "code",
   "execution_count": null,
   "id": "0b4f74c9",
   "metadata": {
    "id": "v7tImBaOgNwo"
   },
   "outputs": [],
   "source": [
    "## Your code is here\n"
   ]
  },
  {
   "cell_type": "markdown",
   "id": "fea7d570",
   "metadata": {},
   "source": [
    "## Dirty data\n",
    "\n",
    "Read `volunteers.txt` file and perform the following action:\n",
    "\n",
    "* Create a dataframe with columns: Name, Lastname, State"
   ]
  },
  {
   "cell_type": "code",
   "execution_count": null,
   "id": "8c0f7665",
   "metadata": {},
   "outputs": [],
   "source": [
    "## Your code is here\n"
   ]
  },
  {
   "cell_type": "code",
   "execution_count": null,
   "id": "cf0259df",
   "metadata": {},
   "outputs": [],
   "source": []
  }
 ],
 "metadata": {
  "kernelspec": {
   "display_name": "Python 3 (ipykernel)",
   "language": "python",
   "name": "python3"
  },
  "language_info": {
   "codemirror_mode": {
    "name": "ipython",
    "version": 3
   },
   "file_extension": ".py",
   "mimetype": "text/x-python",
   "name": "python",
   "nbconvert_exporter": "python",
   "pygments_lexer": "ipython3",
   "version": "3.9.7"
  },
  "toc": {
   "base_numbering": 1,
   "nav_menu": {},
   "number_sections": false,
   "sideBar": true,
   "skip_h1_title": false,
   "title_cell": "Table of Contents",
   "title_sidebar": "Contents",
   "toc_cell": false,
   "toc_position": {
    "height": "calc(100% - 180px)",
    "left": "10px",
    "top": "150px",
    "width": "261.818px"
   },
   "toc_section_display": true,
   "toc_window_display": true
  }
 },
 "nbformat": 4,
 "nbformat_minor": 5
}
